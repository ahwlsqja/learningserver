{
 "cells": [
  {
   "cell_type": "code",
   "execution_count": 1,
   "metadata": {},
   "outputs": [],
   "source": [
    "import os\n",
    "from openai import OpenAI"
   ]
  },
  {
   "cell_type": "code",
   "execution_count": 2,
   "metadata": {},
   "outputs": [
    {
     "data": {
      "text/plain": [
       "True"
      ]
     },
     "execution_count": 2,
     "metadata": {},
     "output_type": "execute_result"
    }
   ],
   "source": [
    "from dotenv import load_dotenv\n",
    "load_dotenv()"
   ]
  },
  {
   "cell_type": "code",
   "execution_count": 3,
   "metadata": {},
   "outputs": [],
   "source": [
    "openai_api_key = os.getenv('OPENAI_API_KEY')"
   ]
  },
  {
   "cell_type": "code",
   "execution_count": 4,
   "metadata": {},
   "outputs": [],
   "source": [
    "client = OpenAI(api_key=openai_api_key)"
   ]
  },
  {
   "cell_type": "code",
   "execution_count": 6,
   "metadata": {},
   "outputs": [],
   "source": [
    "file_path = './11_version_9.jsonl'"
   ]
  },
  {
   "cell_type": "code",
   "execution_count": 7,
   "metadata": {},
   "outputs": [
    {
     "name": "stdout",
     "output_type": "stream",
     "text": [
      "FineTuningJob(id='ftjob-tQHGeBFpQMTC68MhOyl1GCU1', created_at=1730310435, error=Error(code='invalid_training_file', message='The job failed due to an invalid training file. Invalid file format. Input file file-DprFZ7K9bdwvALFY2mVdOxCS is in the prompt-completion format, but the specified model gpt-3.5-turbo-0125 is a chat model and requires chat-formatted data. See https://platform.openai.com/docs/guides/fine-tuning/preparing-your-dataset for details.', param='training_file'), fine_tuned_model=None, finished_at=None, hyperparameters=Hyperparameters(n_epochs='auto', batch_size='auto', learning_rate_multiplier='auto'), model='gpt-3.5-turbo-0125', object='fine_tuning.job', organization_id='org-tkmi69gRHiQsUbafMz0TPIlN', result_files=[], seed=824383575, status='failed', trained_tokens=None, training_file='file-DprFZ7K9bdwvALFY2mVdOxCS', validation_file=None, estimated_finish=None, integrations=[], user_provided_suffix=None)\n",
      "FineTuningJob(id='ftjob-GxfIsWvE9nKLUc0nhtCjzJy1', created_at=1730310138, error=Error(code='invalid_training_file', message='The job failed due to an invalid training file. Invalid file format. Input file file-DprFZ7K9bdwvALFY2mVdOxCS is in the prompt-completion format, but the specified model gpt-3.5-turbo-0125 is a chat model and requires chat-formatted data. See https://platform.openai.com/docs/guides/fine-tuning/preparing-your-dataset for details.', param='training_file'), fine_tuned_model=None, finished_at=None, hyperparameters=Hyperparameters(n_epochs='auto', batch_size='auto', learning_rate_multiplier='auto'), model='gpt-3.5-turbo-0125', object='fine_tuning.job', organization_id='org-tkmi69gRHiQsUbafMz0TPIlN', result_files=[], seed=568734540, status='failed', trained_tokens=None, training_file='file-DprFZ7K9bdwvALFY2mVdOxCS', validation_file=None, estimated_finish=None, integrations=[], user_provided_suffix=None)\n",
      "FineTuningJob(id='ftjob-fhckHchANLWRMiJhZThqnccz', created_at=1730310061, error=Error(code='invalid_training_file', message='The job failed due to an invalid training file. Invalid file format. Input file file-DprFZ7K9bdwvALFY2mVdOxCS is in the prompt-completion format, but the specified model gpt-3.5-turbo-0125 is a chat model and requires chat-formatted data. See https://platform.openai.com/docs/guides/fine-tuning/preparing-your-dataset for details.', param='training_file'), fine_tuned_model=None, finished_at=None, hyperparameters=Hyperparameters(n_epochs='auto', batch_size='auto', learning_rate_multiplier='auto'), model='gpt-3.5-turbo-0125', object='fine_tuning.job', organization_id='org-tkmi69gRHiQsUbafMz0TPIlN', result_files=[], seed=507489657, status='failed', trained_tokens=None, training_file='file-DprFZ7K9bdwvALFY2mVdOxCS', validation_file=None, estimated_finish=None, integrations=[], user_provided_suffix=None)\n",
      "FineTuningJob(id='ftjob-38ZK1nS6l90IL0d4InqyYOmv', created_at=1730309710, error=Error(code='invalid_training_file', message='The job failed due to an invalid training file. Invalid file format. Input file file-DprFZ7K9bdwvALFY2mVdOxCS is in the prompt-completion format, but the specified model gpt-4o-mini-2024-07-18 is a chat model and requires chat-formatted data. See https://platform.openai.com/docs/guides/fine-tuning/preparing-your-dataset for details.', param='training_file'), fine_tuned_model=None, finished_at=None, hyperparameters=Hyperparameters(n_epochs='auto', batch_size='auto', learning_rate_multiplier='auto'), model='gpt-4o-mini-2024-07-18', object='fine_tuning.job', organization_id='org-tkmi69gRHiQsUbafMz0TPIlN', result_files=[], seed=1524953644, status='failed', trained_tokens=None, training_file='file-DprFZ7K9bdwvALFY2mVdOxCS', validation_file=None, estimated_finish=None, integrations=[], user_provided_suffix=None)\n"
     ]
    }
   ],
   "source": [
    "for job in client.fine_tuning.jobs.list():\n",
    "    print(job)"
   ]
  },
  {
   "cell_type": "code",
   "execution_count": 8,
   "metadata": {},
   "outputs": [
    {
     "data": {
      "text/plain": [
       "FileObject(id='file-YG1WjBAProvE7UDQmYzanQgp', bytes=51777, created_at=1730311981, filename='11_version_9.jsonl', object='file', purpose='fine-tune', status='processed', status_details=None)"
      ]
     },
     "execution_count": 8,
     "metadata": {},
     "output_type": "execute_result"
    }
   ],
   "source": [
    "uploaded_dataset = client.files.create(\n",
    "    file=open(file_path, 'rb'),\n",
    "    purpose='fine-tune'\n",
    ")\n",
    "uploaded_dataset"
   ]
  },
  {
   "cell_type": "code",
   "execution_count": 10,
   "metadata": {},
   "outputs": [
    {
     "name": "stdout",
     "output_type": "stream",
     "text": [
      "file-YG1WjBAProvE7UDQmYzanQgp\n"
     ]
    },
    {
     "data": {
      "text/plain": [
       "str"
      ]
     },
     "execution_count": 10,
     "metadata": {},
     "output_type": "execute_result"
    }
   ],
   "source": [
    "print(uploaded_dataset.id)\n",
    "type(uploaded_dataset.id)"
   ]
  },
  {
   "cell_type": "code",
   "execution_count": 11,
   "metadata": {},
   "outputs": [],
   "source": [
    "training_detail = client.fine_tuning.jobs.create(\n",
    "    training_file=uploaded_dataset.id,\n",
    "    model='gpt-4o-mini-2024-07-18'\n",
    ")"
   ]
  },
  {
   "cell_type": "code",
   "execution_count": 12,
   "metadata": {},
   "outputs": [
    {
     "name": "stdout",
     "output_type": "stream",
     "text": [
      "ftjob-Tbdf6OsN1uHPpiW7K2XnjZy3\n"
     ]
    },
    {
     "data": {
      "text/plain": [
       "str"
      ]
     },
     "execution_count": 12,
     "metadata": {},
     "output_type": "execute_result"
    }
   ],
   "source": [
    "print(training_detail.id)\n",
    "type(training_detail.id)"
   ]
  },
  {
   "cell_type": "code",
   "execution_count": 33,
   "metadata": {},
   "outputs": [
    {
     "name": "stdout",
     "output_type": "stream",
     "text": [
      "FineTuningJobEvent(id='ftevent-lV2bC23iw3Hj8mVhgPcwfP4J', created_at=1730312594, level='info', message='The job has successfully completed', object='fine_tuning.job.event', data={}, type='message')\n",
      "FineTuningJobEvent(id='ftevent-7IIBl8ncPJXzQ5eO3PLlUgcR', created_at=1730312587, level='info', message='New fine-tuned model created', object='fine_tuning.job.event', data={}, type='message')\n",
      "FineTuningJobEvent(id='ftevent-L0eWM6C0VThD5osss3CS0Dnv', created_at=1730312587, level='info', message='Checkpoint created at step 230', object='fine_tuning.job.event', data={}, type='message')\n",
      "FineTuningJobEvent(id='ftevent-oINPw3spgqwwNKEd8wszc1q7', created_at=1730312587, level='info', message='Checkpoint created at step 115', object='fine_tuning.job.event', data={}, type='message')\n",
      "FineTuningJobEvent(id='ftevent-avrLWW763MzTpcqmeTEL4dmn', created_at=1730312572, level='info', message='Step 345/345: training loss=0.16', object='fine_tuning.job.event', data={'step': 345, 'train_loss': 0.16180850565433502, 'total_steps': 345, 'train_mean_token_accuracy': 0.9629629850387573}, type='metrics')\n",
      "FineTuningJobEvent(id='ftevent-2ArMfAVGJVmHqQB3LONgiye3', created_at=1730312558, level='info', message='Step 344/345: training loss=0.13', object='fine_tuning.job.event', data={'step': 344, 'train_loss': 0.12831656634807587, 'total_steps': 345, 'train_mean_token_accuracy': 1.0}, type='metrics')\n",
      "FineTuningJobEvent(id='ftevent-cio8C48F2EPxpJMQkoUy5XOE', created_at=1730312558, level='info', message='Step 343/345: training loss=0.19', object='fine_tuning.job.event', data={'step': 343, 'train_loss': 0.18589326739311218, 'total_steps': 345, 'train_mean_token_accuracy': 0.9354838728904724}, type='metrics')\n",
      "FineTuningJobEvent(id='ftevent-O0GIsdwTcTb5AYHyXsv763QP', created_at=1730312558, level='info', message='Step 342/345: training loss=0.42', object='fine_tuning.job.event', data={'step': 342, 'train_loss': 0.42186713218688965, 'total_steps': 345, 'train_mean_token_accuracy': 0.875}, type='metrics')\n",
      "FineTuningJobEvent(id='ftevent-KfMie3a5wtRXqEU3tKxCiD5v', created_at=1730312556, level='info', message='Step 341/345: training loss=0.16', object='fine_tuning.job.event', data={'step': 341, 'train_loss': 0.16246996819972992, 'total_steps': 345, 'train_mean_token_accuracy': 1.0}, type='metrics')\n",
      "FineTuningJobEvent(id='ftevent-kVhVXJ2o8Xo3FVq7ckVZuAjY', created_at=1730312555, level='info', message='Step 340/345: training loss=0.52', object='fine_tuning.job.event', data={'step': 340, 'train_loss': 0.5221242904663086, 'total_steps': 345, 'train_mean_token_accuracy': 0.875}, type='metrics')\n",
      "FineTuningJobEvent(id='ftevent-otDtXFC6FZp0AHFEteL2Y6RI', created_at=1730312555, level='info', message='Step 339/345: training loss=0.20', object='fine_tuning.job.event', data={'step': 339, 'train_loss': 0.19778521358966827, 'total_steps': 345, 'train_mean_token_accuracy': 0.9487179517745972}, type='metrics')\n",
      "FineTuningJobEvent(id='ftevent-WiEhbfigtBG69EqaDiZrSMh2', created_at=1730312553, level='info', message='Step 338/345: training loss=0.92', object='fine_tuning.job.event', data={'step': 338, 'train_loss': 0.9163834452629089, 'total_steps': 345, 'train_mean_token_accuracy': 0.7894737124443054}, type='metrics')\n",
      "FineTuningJobEvent(id='ftevent-MPl5fjxNXZeRVzxcgBLW7TBe', created_at=1730312553, level='info', message='Step 337/345: training loss=0.14', object='fine_tuning.job.event', data={'step': 337, 'train_loss': 0.13826189935207367, 'total_steps': 345, 'train_mean_token_accuracy': 0.9473684430122375}, type='metrics')\n",
      "FineTuningJobEvent(id='ftevent-zW3ILZ1bNhuie53abqs46XrD', created_at=1730312553, level='info', message='Step 336/345: training loss=0.27', object='fine_tuning.job.event', data={'step': 336, 'train_loss': 0.26783522963523865, 'total_steps': 345, 'train_mean_token_accuracy': 0.949999988079071}, type='metrics')\n",
      "FineTuningJobEvent(id='ftevent-WErmA0tVa7TDnHOBPT5B88Cs', created_at=1730312550, level='info', message='Step 335/345: training loss=0.41', object='fine_tuning.job.event', data={'step': 335, 'train_loss': 0.40928035974502563, 'total_steps': 345, 'train_mean_token_accuracy': 0.8260869383811951}, type='metrics')\n",
      "FineTuningJobEvent(id='ftevent-atH74LwsAxR3hcwNeCF8HZpe', created_at=1730312550, level='info', message='Step 334/345: training loss=0.46', object='fine_tuning.job.event', data={'step': 334, 'train_loss': 0.46188676357269287, 'total_steps': 345, 'train_mean_token_accuracy': 0.8181818127632141}, type='metrics')\n",
      "FineTuningJobEvent(id='ftevent-snI2f5IX6qpEmil0jI8t8CJq', created_at=1730312548, level='info', message='Step 333/345: training loss=0.41', object='fine_tuning.job.event', data={'step': 333, 'train_loss': 0.4099031984806061, 'total_steps': 345, 'train_mean_token_accuracy': 0.8888888955116272}, type='metrics')\n",
      "FineTuningJobEvent(id='ftevent-W2Oy95xhpq8eA9CavGpv5hrD', created_at=1730312548, level='info', message='Step 332/345: training loss=0.21', object='fine_tuning.job.event', data={'step': 332, 'train_loss': 0.2116314172744751, 'total_steps': 345, 'train_mean_token_accuracy': 0.875}, type='metrics')\n",
      "FineTuningJobEvent(id='ftevent-2ZhK9vHclpI7ZvYPWamLVHaX', created_at=1730312548, level='info', message='Step 331/345: training loss=0.07', object='fine_tuning.job.event', data={'step': 331, 'train_loss': 0.07063115388154984, 'total_steps': 345, 'train_mean_token_accuracy': 1.0}, type='metrics')\n",
      "FineTuningJobEvent(id='ftevent-uLhCRPJ84BBCkhnrb0NUJGgT', created_at=1730312545, level='info', message='Step 330/345: training loss=0.17', object='fine_tuning.job.event', data={'step': 330, 'train_loss': 0.17039471864700317, 'total_steps': 345, 'train_mean_token_accuracy': 0.9354838728904724}, type='metrics')\n",
      "FineTuningJobEvent(id='ftevent-ipOkhj3yDDjn1Z5Nh2E2EJWg', created_at=1730312545, level='info', message='Step 329/345: training loss=0.14', object='fine_tuning.job.event', data={'step': 329, 'train_loss': 0.1433219462633133, 'total_steps': 345, 'train_mean_token_accuracy': 0.9729729890823364}, type='metrics')\n",
      "FineTuningJobEvent(id='ftevent-LnRgyrt94eQGeBUC1dayP6zm', created_at=1730312543, level='info', message='Step 328/345: training loss=0.17', object='fine_tuning.job.event', data={'step': 328, 'train_loss': 0.17408353090286255, 'total_steps': 345, 'train_mean_token_accuracy': 0.9534883499145508}, type='metrics')\n",
      "FineTuningJobEvent(id='ftevent-UFUO1l4ykwsDEDK6L4xs4TiO', created_at=1730312543, level='info', message='Step 327/345: training loss=0.71', object='fine_tuning.job.event', data={'step': 327, 'train_loss': 0.7099649310112, 'total_steps': 345, 'train_mean_token_accuracy': 0.8125}, type='metrics')\n",
      "FineTuningJobEvent(id='ftevent-JWS70g8PwO3k7me7pqYohXYt', created_at=1730312543, level='info', message='Step 326/345: training loss=0.05', object='fine_tuning.job.event', data={'step': 326, 'train_loss': 0.052543241530656815, 'total_steps': 345, 'train_mean_token_accuracy': 1.0}, type='metrics')\n",
      "FineTuningJobEvent(id='ftevent-zlkMbQF8Fpmito6rjyg0duTT', created_at=1730312540, level='info', message='Step 325/345: training loss=0.09', object='fine_tuning.job.event', data={'step': 325, 'train_loss': 0.09006479382514954, 'total_steps': 345, 'train_mean_token_accuracy': 1.0}, type='metrics')\n",
      "FineTuningJobEvent(id='ftevent-buIeTDtznbxAFitvEdLo7gwf', created_at=1730312540, level='info', message='Step 324/345: training loss=0.18', object='fine_tuning.job.event', data={'step': 324, 'train_loss': 0.1775665283203125, 'total_steps': 345, 'train_mean_token_accuracy': 0.9444444179534912}, type='metrics')\n",
      "FineTuningJobEvent(id='ftevent-XfL8V46z37ZZhTlnlqhFTxhR', created_at=1730312538, level='info', message='Step 323/345: training loss=0.29', object='fine_tuning.job.event', data={'step': 323, 'train_loss': 0.285755455493927, 'total_steps': 345, 'train_mean_token_accuracy': 0.9200000166893005}, type='metrics')\n",
      "FineTuningJobEvent(id='ftevent-vTxYcsOzXoTFGeOs5G4wqiMx', created_at=1730312538, level='info', message='Step 322/345: training loss=0.26', object='fine_tuning.job.event', data={'step': 322, 'train_loss': 0.26294803619384766, 'total_steps': 345, 'train_mean_token_accuracy': 0.949999988079071}, type='metrics')\n",
      "FineTuningJobEvent(id='ftevent-VhIL3mlINRKey77EWlAzoUgy', created_at=1730312538, level='info', message='Step 321/345: training loss=0.08', object='fine_tuning.job.event', data={'step': 321, 'train_loss': 0.0802651196718216, 'total_steps': 345, 'train_mean_token_accuracy': 1.0}, type='metrics')\n",
      "FineTuningJobEvent(id='ftevent-TELwnWCoKsNuzbSX3rHl2jAl', created_at=1730312536, level='info', message='Step 320/345: training loss=0.06', object='fine_tuning.job.event', data={'step': 320, 'train_loss': 0.06463134288787842, 'total_steps': 345, 'train_mean_token_accuracy': 1.0}, type='metrics')\n",
      "FineTuningJobEvent(id='ftevent-A8XJ3XObJUsWhKLjV6nRnb1I', created_at=1730312536, level='info', message='Step 319/345: training loss=0.64', object='fine_tuning.job.event', data={'step': 319, 'train_loss': 0.6381222009658813, 'total_steps': 345, 'train_mean_token_accuracy': 0.8333333134651184}, type='metrics')\n",
      "FineTuningJobEvent(id='ftevent-rZhUX7ivetAJURd0Q37J5Okj', created_at=1730312535, level='info', message='Step 318/345: training loss=0.09', object='fine_tuning.job.event', data={'step': 318, 'train_loss': 0.09053488075733185, 'total_steps': 345, 'train_mean_token_accuracy': 1.0}, type='metrics')\n",
      "FineTuningJobEvent(id='ftevent-eEFSfivMzHKKH9Aq38UoT7F7', created_at=1730312533, level='info', message='Step 317/345: training loss=0.12', object='fine_tuning.job.event', data={'step': 317, 'train_loss': 0.12324804812669754, 'total_steps': 345, 'train_mean_token_accuracy': 1.0}, type='metrics')\n",
      "FineTuningJobEvent(id='ftevent-7XLWSZxx1YM2sG6jtmSUYeqC', created_at=1730312533, level='info', message='Step 316/345: training loss=0.04', object='fine_tuning.job.event', data={'step': 316, 'train_loss': 0.04125531390309334, 'total_steps': 345, 'train_mean_token_accuracy': 1.0}, type='metrics')\n",
      "FineTuningJobEvent(id='ftevent-PVI638wF4mdJBkFTlpeEWLgf', created_at=1730312531, level='info', message='Step 315/345: training loss=0.07', object='fine_tuning.job.event', data={'step': 315, 'train_loss': 0.07178633660078049, 'total_steps': 345, 'train_mean_token_accuracy': 1.0}, type='metrics')\n",
      "FineTuningJobEvent(id='ftevent-CWPcDZKRtmk8ERxgFvw8Ikon', created_at=1730312531, level='info', message='Step 314/345: training loss=0.54', object='fine_tuning.job.event', data={'step': 314, 'train_loss': 0.535351574420929, 'total_steps': 345, 'train_mean_token_accuracy': 0.8695651888847351}, type='metrics')\n",
      "FineTuningJobEvent(id='ftevent-RuCkAt7jDBTS6dMXJxNyVYp0', created_at=1730312531, level='info', message='Step 313/345: training loss=0.44', object='fine_tuning.job.event', data={'step': 313, 'train_loss': 0.4442933201789856, 'total_steps': 345, 'train_mean_token_accuracy': 0.8461538553237915}, type='metrics')\n",
      "FineTuningJobEvent(id='ftevent-NIJLi0ND9M2YqUTCFUerozBv', created_at=1730312529, level='info', message='Step 312/345: training loss=0.14', object='fine_tuning.job.event', data={'step': 312, 'train_loss': 0.14175188541412354, 'total_steps': 345, 'train_mean_token_accuracy': 0.9629629850387573}, type='metrics')\n",
      "FineTuningJobEvent(id='ftevent-Hu1dRKcsU9dVc576wI3QoY3s', created_at=1730312528, level='info', message='Step 311/345: training loss=0.23', object='fine_tuning.job.event', data={'step': 311, 'train_loss': 0.23198960721492767, 'total_steps': 345, 'train_mean_token_accuracy': 0.8888888955116272}, type='metrics')\n",
      "FineTuningJobEvent(id='ftevent-fht8e4coWiLXK1Jk3yTiBup8', created_at=1730312526, level='info', message='Step 310/345: training loss=0.08', object='fine_tuning.job.event', data={'step': 310, 'train_loss': 0.08426588028669357, 'total_steps': 345, 'train_mean_token_accuracy': 1.0}, type='metrics')\n",
      "FineTuningJobEvent(id='ftevent-eX58d3J0NHNKpyJ5Y7ph6ucN', created_at=1730312526, level='info', message='Step 309/345: training loss=0.38', object='fine_tuning.job.event', data={'step': 309, 'train_loss': 0.3811302185058594, 'total_steps': 345, 'train_mean_token_accuracy': 0.9166666865348816}, type='metrics')\n",
      "FineTuningJobEvent(id='ftevent-CY3290sc0tScxFDqe1AuRpV2', created_at=1730312526, level='info', message='Step 308/345: training loss=0.06', object='fine_tuning.job.event', data={'step': 308, 'train_loss': 0.06481346487998962, 'total_steps': 345, 'train_mean_token_accuracy': 1.0}, type='metrics')\n",
      "FineTuningJobEvent(id='ftevent-VFikCZ034jBfVHBeTMi7Yfof', created_at=1730312523, level='info', message='Step 307/345: training loss=0.20', object='fine_tuning.job.event', data={'step': 307, 'train_loss': 0.203739732503891, 'total_steps': 345, 'train_mean_token_accuracy': 0.8999999761581421}, type='metrics')\n",
      "FineTuningJobEvent(id='ftevent-7slfEoz715QMi9Al4kc25HRS', created_at=1730312523, level='info', message='Step 306/345: training loss=0.36', object='fine_tuning.job.event', data={'step': 306, 'train_loss': 0.3611036241054535, 'total_steps': 345, 'train_mean_token_accuracy': 0.8823529481887817}, type='metrics')\n",
      "FineTuningJobEvent(id='ftevent-aELqabQd6zoXQkj7Q1f9weKl', created_at=1730312523, level='info', message='Step 305/345: training loss=0.40', object='fine_tuning.job.event', data={'step': 305, 'train_loss': 0.4001391530036926, 'total_steps': 345, 'train_mean_token_accuracy': 0.8846153616905212}, type='metrics')\n",
      "FineTuningJobEvent(id='ftevent-MLIk1fu669vgIRhnmVP4Qi54', created_at=1730312521, level='info', message='Step 304/345: training loss=0.27', object='fine_tuning.job.event', data={'step': 304, 'train_loss': 0.27205634117126465, 'total_steps': 345, 'train_mean_token_accuracy': 0.8484848737716675}, type='metrics')\n",
      "FineTuningJobEvent(id='ftevent-dut6gA7ST640K5v7NUlakgrO', created_at=1730312521, level='info', message='Step 303/345: training loss=0.35', object='fine_tuning.job.event', data={'step': 303, 'train_loss': 0.3491963744163513, 'total_steps': 345, 'train_mean_token_accuracy': 0.930232584476471}, type='metrics')\n",
      "FineTuningJobEvent(id='ftevent-vpTmr2AmpX89BffbRKjMmSMc', created_at=1730312518, level='info', message='Step 302/345: training loss=0.01', object='fine_tuning.job.event', data={'step': 302, 'train_loss': 0.01263300608843565, 'total_steps': 345, 'train_mean_token_accuracy': 1.0}, type='metrics')\n",
      "FineTuningJobEvent(id='ftevent-rMWJN399syA9igxod5HvcF7c', created_at=1730312518, level='info', message='Step 301/345: training loss=0.08', object='fine_tuning.job.event', data={'step': 301, 'train_loss': 0.0843433067202568, 'total_steps': 345, 'train_mean_token_accuracy': 1.0}, type='metrics')\n",
      "FineTuningJobEvent(id='ftevent-HlH3sjuSJQBh0vw2dACql6Er', created_at=1730312518, level='info', message='Step 300/345: training loss=0.38', object='fine_tuning.job.event', data={'step': 300, 'train_loss': 0.3836188018321991, 'total_steps': 345, 'train_mean_token_accuracy': 0.95652174949646}, type='metrics')\n",
      "FineTuningJobEvent(id='ftevent-KX6LoahsYOmB2SvevpoI7GIl', created_at=1730312516, level='info', message='Step 299/345: training loss=0.16', object='fine_tuning.job.event', data={'step': 299, 'train_loss': 0.1648377776145935, 'total_steps': 345, 'train_mean_token_accuracy': 0.9111111164093018}, type='metrics')\n",
      "FineTuningJobEvent(id='ftevent-pMP9c0842Ihirt8ed77K7gF3', created_at=1730312516, level='info', message='Step 298/345: training loss=0.43', object='fine_tuning.job.event', data={'step': 298, 'train_loss': 0.42797476053237915, 'total_steps': 345, 'train_mean_token_accuracy': 0.925000011920929}, type='metrics')\n",
      "FineTuningJobEvent(id='ftevent-jm34SpzGGQOqz8EhgeW7a11G', created_at=1730312516, level='info', message='Step 297/345: training loss=0.12', object='fine_tuning.job.event', data={'step': 297, 'train_loss': 0.11814546585083008, 'total_steps': 345, 'train_mean_token_accuracy': 1.0}, type='metrics')\n",
      "FineTuningJobEvent(id='ftevent-YYdiwj8cC53lqlOFyQftyDkG', created_at=1730312513, level='info', message='Step 296/345: training loss=0.13', object='fine_tuning.job.event', data={'step': 296, 'train_loss': 0.12659867107868195, 'total_steps': 345, 'train_mean_token_accuracy': 0.9444444179534912}, type='metrics')\n",
      "FineTuningJobEvent(id='ftevent-9d3lLpqlQbrmtfrlLMQ8o3pt', created_at=1730312513, level='info', message='Step 295/345: training loss=0.30', object='fine_tuning.job.event', data={'step': 295, 'train_loss': 0.297952264547348, 'total_steps': 345, 'train_mean_token_accuracy': 0.9200000166893005}, type='metrics')\n",
      "FineTuningJobEvent(id='ftevent-pYW5Wd5Vr5xSiVvA0ObyAbfi', created_at=1730312511, level='info', message='Step 294/345: training loss=0.21', object='fine_tuning.job.event', data={'step': 294, 'train_loss': 0.2077442705631256, 'total_steps': 345, 'train_mean_token_accuracy': 0.931034505367279}, type='metrics')\n",
      "FineTuningJobEvent(id='ftevent-0ZtHtZL8mLBgQIaO03iSoXLI', created_at=1730312511, level='info', message='Step 293/345: training loss=0.28', object='fine_tuning.job.event', data={'step': 293, 'train_loss': 0.27670013904571533, 'total_steps': 345, 'train_mean_token_accuracy': 0.8888888955116272}, type='metrics')\n",
      "FineTuningJobEvent(id='ftevent-XzC97zkH20mM82aeiTYCNqeb', created_at=1730312509, level='info', message='Step 292/345: training loss=0.15', object='fine_tuning.job.event', data={'step': 292, 'train_loss': 0.15499918162822723, 'total_steps': 345, 'train_mean_token_accuracy': 0.9736841917037964}, type='metrics')\n",
      "FineTuningJobEvent(id='ftevent-VsujCaSGdrXp48noJoF2QWIj', created_at=1730312509, level='info', message='Step 291/345: training loss=0.14', object='fine_tuning.job.event', data={'step': 291, 'train_loss': 0.1352180540561676, 'total_steps': 345, 'train_mean_token_accuracy': 0.949999988079071}, type='metrics')\n",
      "FineTuningJobEvent(id='ftevent-FjpaEjSAea3ygxtq2bbrXtaG', created_at=1730312508, level='info', message='Step 290/345: training loss=0.40', object='fine_tuning.job.event', data={'step': 290, 'train_loss': 0.39916032552719116, 'total_steps': 345, 'train_mean_token_accuracy': 0.8500000238418579}, type='metrics')\n",
      "FineTuningJobEvent(id='ftevent-iXzZ32PG3wMv1fgvxaezYYZu', created_at=1730312506, level='info', message='Step 289/345: training loss=0.48', object='fine_tuning.job.event', data={'step': 289, 'train_loss': 0.4758366346359253, 'total_steps': 345, 'train_mean_token_accuracy': 0.8648648858070374}, type='metrics')\n",
      "FineTuningJobEvent(id='ftevent-wDgB7Q6mV8u7hVxRXrYTWNgB', created_at=1730312506, level='info', message='Step 288/345: training loss=0.05', object='fine_tuning.job.event', data={'step': 288, 'train_loss': 0.053622495383024216, 'total_steps': 345, 'train_mean_token_accuracy': 1.0}, type='metrics')\n",
      "FineTuningJobEvent(id='ftevent-zs67wTadpvcb84HvukXwyLoW', created_at=1730312506, level='info', message='Step 287/345: training loss=0.05', object='fine_tuning.job.event', data={'step': 287, 'train_loss': 0.04623126983642578, 'total_steps': 345, 'train_mean_token_accuracy': 1.0}, type='metrics')\n",
      "FineTuningJobEvent(id='ftevent-CJaFkNJjC9EoZeIn5pUbH8mU', created_at=1730312504, level='info', message='Step 286/345: training loss=0.28', object='fine_tuning.job.event', data={'step': 286, 'train_loss': 0.2846015691757202, 'total_steps': 345, 'train_mean_token_accuracy': 0.9230769276618958}, type='metrics')\n",
      "FineTuningJobEvent(id='ftevent-SjaCeOUKskX2CgY8oVLtsqFp', created_at=1730312504, level='info', message='Step 285/345: training loss=0.18', object='fine_tuning.job.event', data={'step': 285, 'train_loss': 0.18499605357646942, 'total_steps': 345, 'train_mean_token_accuracy': 1.0}, type='metrics')\n",
      "FineTuningJobEvent(id='ftevent-hZg4ScY71aHtnebn9xXHtaSF', created_at=1730312501, level='info', message='Step 284/345: training loss=0.37', object='fine_tuning.job.event', data={'step': 284, 'train_loss': 0.3738034963607788, 'total_steps': 345, 'train_mean_token_accuracy': 0.8947368264198303}, type='metrics')\n",
      "FineTuningJobEvent(id='ftevent-qV9mCw6OGJdBOBLN4eUgLFAQ', created_at=1730312501, level='info', message='Step 283/345: training loss=0.59', object='fine_tuning.job.event', data={'step': 283, 'train_loss': 0.5859957337379456, 'total_steps': 345, 'train_mean_token_accuracy': 0.800000011920929}, type='metrics')\n",
      "FineTuningJobEvent(id='ftevent-zVwfvtXzfuIBZuaxyCSvTjDN', created_at=1730312501, level='info', message='Step 282/345: training loss=0.10', object='fine_tuning.job.event', data={'step': 282, 'train_loss': 0.10046914219856262, 'total_steps': 345, 'train_mean_token_accuracy': 1.0}, type='metrics')\n",
      "FineTuningJobEvent(id='ftevent-WQ71rkbrrWunB0BaDYeLbEZB', created_at=1730312499, level='info', message='Step 281/345: training loss=0.21', object='fine_tuning.job.event', data={'step': 281, 'train_loss': 0.20952682197093964, 'total_steps': 345, 'train_mean_token_accuracy': 0.8857142925262451}, type='metrics')\n",
      "FineTuningJobEvent(id='ftevent-C01S0Mlel2EwPBDk5WA34V0g', created_at=1730312499, level='info', message='Step 280/345: training loss=0.36', object='fine_tuning.job.event', data={'step': 280, 'train_loss': 0.358274906873703, 'total_steps': 345, 'train_mean_token_accuracy': 0.8235294222831726}, type='metrics')\n",
      "FineTuningJobEvent(id='ftevent-7YNPJAPLD3DAYxsTFwXcCPtO', created_at=1730312496, level='info', message='Step 279/345: training loss=0.08', object='fine_tuning.job.event', data={'step': 279, 'train_loss': 0.07885925471782684, 'total_steps': 345, 'train_mean_token_accuracy': 1.0}, type='metrics')\n",
      "FineTuningJobEvent(id='ftevent-SBY5dze0OUlhiqEgexgFz04H', created_at=1730312496, level='info', message='Step 278/345: training loss=0.07', object='fine_tuning.job.event', data={'step': 278, 'train_loss': 0.07115127891302109, 'total_steps': 345, 'train_mean_token_accuracy': 1.0}, type='metrics')\n",
      "FineTuningJobEvent(id='ftevent-Uee18KBaCNLfM4R7vse9Amh9', created_at=1730312496, level='info', message='Step 277/345: training loss=0.15', object='fine_tuning.job.event', data={'step': 277, 'train_loss': 0.15150658786296844, 'total_steps': 345, 'train_mean_token_accuracy': 1.0}, type='metrics')\n",
      "FineTuningJobEvent(id='ftevent-xgCKGPYVjFivy0SVKayG9LUT', created_at=1730312494, level='info', message='Step 276/345: training loss=0.62', object='fine_tuning.job.event', data={'step': 276, 'train_loss': 0.6187933683395386, 'total_steps': 345, 'train_mean_token_accuracy': 0.7058823704719543}, type='metrics')\n",
      "FineTuningJobEvent(id='ftevent-VSx6w73mesBSQDXbQK5ELC4Q', created_at=1730312494, level='info', message='Step 275/345: training loss=0.34', object='fine_tuning.job.event', data={'step': 275, 'train_loss': 0.3393630087375641, 'total_steps': 345, 'train_mean_token_accuracy': 0.8947368264198303}, type='metrics')\n",
      "FineTuningJobEvent(id='ftevent-BqZKiNR3xgf3C8Tit3oxsJbK', created_at=1730312492, level='info', message='Step 274/345: training loss=0.87', object='fine_tuning.job.event', data={'step': 274, 'train_loss': 0.8739384412765503, 'total_steps': 345, 'train_mean_token_accuracy': 0.75}, type='metrics')\n",
      "FineTuningJobEvent(id='ftevent-Q6v5MmLs782PwDbt8l4DEkJ9', created_at=1730312492, level='info', message='Step 273/345: training loss=0.24', object='fine_tuning.job.event', data={'step': 273, 'train_loss': 0.23529790341854095, 'total_steps': 345, 'train_mean_token_accuracy': 0.9090909361839294}, type='metrics')\n",
      "FineTuningJobEvent(id='ftevent-3P8rbqeA731i2EzS9gFIIp8F', created_at=1730312491, level='info', message='Step 272/345: training loss=0.08', object='fine_tuning.job.event', data={'step': 272, 'train_loss': 0.07878965884447098, 'total_steps': 345, 'train_mean_token_accuracy': 1.0}, type='metrics')\n",
      "FineTuningJobEvent(id='ftevent-00TIzdZ5isPKlehxS5hKUPdi', created_at=1730312489, level='info', message='Step 271/345: training loss=0.39', object='fine_tuning.job.event', data={'step': 271, 'train_loss': 0.391566663980484, 'total_steps': 345, 'train_mean_token_accuracy': 0.8709677457809448}, type='metrics')\n",
      "FineTuningJobEvent(id='ftevent-6iGebSrH8uqTICP0v61T7aGW', created_at=1730312489, level='info', message='Step 270/345: training loss=0.44', object='fine_tuning.job.event', data={'step': 270, 'train_loss': 0.4445604383945465, 'total_steps': 345, 'train_mean_token_accuracy': 0.8999999761581421}, type='metrics')\n",
      "FineTuningJobEvent(id='ftevent-vYQSdfKZo0xc67IbZDElIqOf', created_at=1730312489, level='info', message='Step 269/345: training loss=0.38', object='fine_tuning.job.event', data={'step': 269, 'train_loss': 0.3797086179256439, 'total_steps': 345, 'train_mean_token_accuracy': 0.8214285969734192}, type='metrics')\n",
      "FineTuningJobEvent(id='ftevent-233EEvWUiDIBeLnEBiTW7YqL', created_at=1730312486, level='info', message='Step 268/345: training loss=0.52', object='fine_tuning.job.event', data={'step': 268, 'train_loss': 0.5189369916915894, 'total_steps': 345, 'train_mean_token_accuracy': 0.782608687877655}, type='metrics')\n",
      "FineTuningJobEvent(id='ftevent-DO1zeRRmO3NzsaLLgXNZ5iUL', created_at=1730312486, level='info', message='Step 267/345: training loss=0.16', object='fine_tuning.job.event', data={'step': 267, 'train_loss': 0.16374647617340088, 'total_steps': 345, 'train_mean_token_accuracy': 0.9473684430122375}, type='metrics')\n",
      "FineTuningJobEvent(id='ftevent-OQi2CKhBWxGk31g8hk0TzxrK', created_at=1730312484, level='info', message='Step 266/345: training loss=0.28', object='fine_tuning.job.event', data={'step': 266, 'train_loss': 0.2819889783859253, 'total_steps': 345, 'train_mean_token_accuracy': 0.9268292784690857}, type='metrics')\n",
      "FineTuningJobEvent(id='ftevent-kLVd0sGcuaRtLknlgIvalhtX', created_at=1730312484, level='info', message='Step 265/345: training loss=0.29', object='fine_tuning.job.event', data={'step': 265, 'train_loss': 0.2906198501586914, 'total_steps': 345, 'train_mean_token_accuracy': 0.9444444179534912}, type='metrics')\n",
      "FineTuningJobEvent(id='ftevent-IRC7DrOjH2RlubHuvXR3T96P', created_at=1730312484, level='info', message='Step 264/345: training loss=0.12', object='fine_tuning.job.event', data={'step': 264, 'train_loss': 0.12148147821426392, 'total_steps': 345, 'train_mean_token_accuracy': 0.9599999785423279}, type='metrics')\n",
      "FineTuningJobEvent(id='ftevent-vHy4RNn2y08ZPVPJRMNabrBj', created_at=1730312481, level='info', message='Step 263/345: training loss=0.37', object='fine_tuning.job.event', data={'step': 263, 'train_loss': 0.37259286642074585, 'total_steps': 345, 'train_mean_token_accuracy': 0.8846153616905212}, type='metrics')\n",
      "FineTuningJobEvent(id='ftevent-81o5TzMadVmHYN4e40mMQApX', created_at=1730312481, level='info', message='Step 262/345: training loss=0.15', object='fine_tuning.job.event', data={'step': 262, 'train_loss': 0.14864005148410797, 'total_steps': 345, 'train_mean_token_accuracy': 0.9615384340286255}, type='metrics')\n",
      "FineTuningJobEvent(id='ftevent-KgdeUgQb9tblZp7OsZprOeSe', created_at=1730312479, level='info', message='Step 261/345: training loss=0.29', object='fine_tuning.job.event', data={'step': 261, 'train_loss': 0.28563088178634644, 'total_steps': 345, 'train_mean_token_accuracy': 0.8974359035491943}, type='metrics')\n",
      "FineTuningJobEvent(id='ftevent-IwE5mWCvhU03f213bGt5bOOJ', created_at=1730312479, level='info', message='Step 260/345: training loss=0.40', object='fine_tuning.job.event', data={'step': 260, 'train_loss': 0.4025731086730957, 'total_steps': 345, 'train_mean_token_accuracy': 0.875}, type='metrics')\n",
      "FineTuningJobEvent(id='ftevent-IMVeUfxA2BG3c9zcQ1lRMepj', created_at=1730312479, level='info', message='Step 259/345: training loss=0.51', object='fine_tuning.job.event', data={'step': 259, 'train_loss': 0.513812243938446, 'total_steps': 345, 'train_mean_token_accuracy': 0.837837815284729}, type='metrics')\n",
      "FineTuningJobEvent(id='ftevent-Xzg91y7phoK4gV2tjuGtWgwF', created_at=1730312477, level='info', message='Step 258/345: training loss=0.21', object='fine_tuning.job.event', data={'step': 258, 'train_loss': 0.21180444955825806, 'total_steps': 345, 'train_mean_token_accuracy': 0.96875}, type='metrics')\n",
      "FineTuningJobEvent(id='ftevent-8QXP9Qq9rGWgLKuKvtHUwOyF', created_at=1730312476, level='info', message='Step 257/345: training loss=0.23', object='fine_tuning.job.event', data={'step': 257, 'train_loss': 0.23280896246433258, 'total_steps': 345, 'train_mean_token_accuracy': 0.9444444179534912}, type='metrics')\n",
      "FineTuningJobEvent(id='ftevent-HMs94a262lnYNHmOsqWUHucA', created_at=1730312474, level='info', message='Step 256/345: training loss=0.22', object='fine_tuning.job.event', data={'step': 256, 'train_loss': 0.21793635189533234, 'total_steps': 345, 'train_mean_token_accuracy': 0.9487179517745972}, type='metrics')\n",
      "FineTuningJobEvent(id='ftevent-DdrayrT0SrM6yfno4oIA9sNg', created_at=1730312474, level='info', message='Step 255/345: training loss=0.47', object='fine_tuning.job.event', data={'step': 255, 'train_loss': 0.47379666566848755, 'total_steps': 345, 'train_mean_token_accuracy': 0.9111111164093018}, type='metrics')\n",
      "FineTuningJobEvent(id='ftevent-yIVnTWIsLl90bJwF1Wv5AWgu', created_at=1730312474, level='info', message='Step 254/345: training loss=0.09', object='fine_tuning.job.event', data={'step': 254, 'train_loss': 0.08544399589300156, 'total_steps': 345, 'train_mean_token_accuracy': 1.0}, type='metrics')\n",
      "FineTuningJobEvent(id='ftevent-OCn4bHf0rUXQ9Nk09QTkq6pZ', created_at=1730312472, level='info', message='Step 253/345: training loss=0.45', object='fine_tuning.job.event', data={'step': 253, 'train_loss': 0.4524075984954834, 'total_steps': 345, 'train_mean_token_accuracy': 0.9166666865348816}, type='metrics')\n",
      "FineTuningJobEvent(id='ftevent-o2nir9y836ysMVn62JXPIgFY', created_at=1730312472, level='info', message='Step 252/345: training loss=0.53', object='fine_tuning.job.event', data={'step': 252, 'train_loss': 0.5298928022384644, 'total_steps': 345, 'train_mean_token_accuracy': 0.9285714030265808}, type='metrics')\n",
      "FineTuningJobEvent(id='ftevent-XU2I86LN6UCIYv11cc5432t1', created_at=1730312472, level='info', message='Step 251/345: training loss=0.31', object='fine_tuning.job.event', data={'step': 251, 'train_loss': 0.3094107508659363, 'total_steps': 345, 'train_mean_token_accuracy': 0.9189189076423645}, type='metrics')\n",
      "FineTuningJobEvent(id='ftevent-mOhF07eWh6xLxNvcArVUaGV0', created_at=1730312469, level='info', message='Step 250/345: training loss=0.12', object='fine_tuning.job.event', data={'step': 250, 'train_loss': 0.12117738276720047, 'total_steps': 345, 'train_mean_token_accuracy': 0.9696969985961914}, type='metrics')\n",
      "FineTuningJobEvent(id='ftevent-5JR3DqrtZOdhm5tTlqEj7yUe', created_at=1730312469, level='info', message='Step 249/345: training loss=0.23', object='fine_tuning.job.event', data={'step': 249, 'train_loss': 0.23364852368831635, 'total_steps': 345, 'train_mean_token_accuracy': 0.9428571462631226}, type='metrics')\n",
      "FineTuningJobEvent(id='ftevent-lp6fhEsppmQZaVdbNogn8Zqi', created_at=1730312467, level='info', message='Step 248/345: training loss=0.05', object='fine_tuning.job.event', data={'step': 248, 'train_loss': 0.04652472957968712, 'total_steps': 345, 'train_mean_token_accuracy': 1.0}, type='metrics')\n",
      "FineTuningJobEvent(id='ftevent-BZCaBF9ykwN0I6dzdjFaNGKl', created_at=1730312467, level='info', message='Step 247/345: training loss=0.37', object='fine_tuning.job.event', data={'step': 247, 'train_loss': 0.3671601414680481, 'total_steps': 345, 'train_mean_token_accuracy': 0.8775510191917419}, type='metrics')\n",
      "FineTuningJobEvent(id='ftevent-hGhhQK7TExAzXxRhlvsFSIHR', created_at=1730312464, level='info', message='Step 246/345: training loss=0.10', object='fine_tuning.job.event', data={'step': 246, 'train_loss': 0.09803739935159683, 'total_steps': 345, 'train_mean_token_accuracy': 0.9722222089767456}, type='metrics')\n",
      "FineTuningJobEvent(id='ftevent-2UCNaHkS7nzNxuzg2yIlkybt', created_at=1730312464, level='info', message='Step 245/345: training loss=0.29', object='fine_tuning.job.event', data={'step': 245, 'train_loss': 0.2891809046268463, 'total_steps': 345, 'train_mean_token_accuracy': 0.875}, type='metrics')\n",
      "FineTuningJobEvent(id='ftevent-XXWLMHDjq5Enx4UOqe09Eh30', created_at=1730312464, level='info', message='Step 244/345: training loss=0.26', object='fine_tuning.job.event', data={'step': 244, 'train_loss': 0.2599078416824341, 'total_steps': 345, 'train_mean_token_accuracy': 0.9090909361839294}, type='metrics')\n",
      "FineTuningJobEvent(id='ftevent-B8NjN3MEC9QldzVKvUyEFzlq', created_at=1730312462, level='info', message='Step 243/345: training loss=0.46', object='fine_tuning.job.event', data={'step': 243, 'train_loss': 0.46396583318710327, 'total_steps': 345, 'train_mean_token_accuracy': 0.875}, type='metrics')\n",
      "FineTuningJobEvent(id='ftevent-eADBnb6CdALinBZWysaiBiic', created_at=1730312462, level='info', message='Step 242/345: training loss=0.17', object='fine_tuning.job.event', data={'step': 242, 'train_loss': 0.16782304644584656, 'total_steps': 345, 'train_mean_token_accuracy': 0.9285714030265808}, type='metrics')\n",
      "FineTuningJobEvent(id='ftevent-cYxHAyZOrsow8atJqePAXkcD', created_at=1730312462, level='info', message='Step 241/345: training loss=0.13', object='fine_tuning.job.event', data={'step': 241, 'train_loss': 0.12767188251018524, 'total_steps': 345, 'train_mean_token_accuracy': 1.0}, type='metrics')\n",
      "FineTuningJobEvent(id='ftevent-Wva2GP6AjZlAJeIIdnJmmve7', created_at=1730312459, level='info', message='Step 240/345: training loss=0.14', object='fine_tuning.job.event', data={'step': 240, 'train_loss': 0.14271804690361023, 'total_steps': 345, 'train_mean_token_accuracy': 0.9642857313156128}, type='metrics')\n",
      "FineTuningJobEvent(id='ftevent-tpPHC4CiEUBosSDw83Nekt7l', created_at=1730312459, level='info', message='Step 239/345: training loss=0.24', object='fine_tuning.job.event', data={'step': 239, 'train_loss': 0.23657220602035522, 'total_steps': 345, 'train_mean_token_accuracy': 0.9333333373069763}, type='metrics')\n",
      "FineTuningJobEvent(id='ftevent-GI6rHcJ9MQs03vi9Y1bap3XU', created_at=1730312459, level='info', message='Step 238/345: training loss=0.08', object='fine_tuning.job.event', data={'step': 238, 'train_loss': 0.07687832415103912, 'total_steps': 345, 'train_mean_token_accuracy': 1.0}, type='metrics')\n",
      "FineTuningJobEvent(id='ftevent-P9nzBJoAZevNYVWStXtOwWim', created_at=1730312457, level='info', message='Step 237/345: training loss=0.12', object='fine_tuning.job.event', data={'step': 237, 'train_loss': 0.12386751174926758, 'total_steps': 345, 'train_mean_token_accuracy': 0.9642857313156128}, type='metrics')\n",
      "FineTuningJobEvent(id='ftevent-NdvhTwHYh5yYnh8oSqRnWHaM', created_at=1730312457, level='info', message='Step 236/345: training loss=0.15', object='fine_tuning.job.event', data={'step': 236, 'train_loss': 0.15112364292144775, 'total_steps': 345, 'train_mean_token_accuracy': 1.0}, type='metrics')\n",
      "FineTuningJobEvent(id='ftevent-iciMKhD3oJj44ahE4QLx6Zju', created_at=1730312454, level='info', message='Step 235/345: training loss=0.23', object='fine_tuning.job.event', data={'step': 235, 'train_loss': 0.23392459750175476, 'total_steps': 345, 'train_mean_token_accuracy': 0.9166666865348816}, type='metrics')\n",
      "FineTuningJobEvent(id='ftevent-wqvn2ZOg4oZ0AzEiC3Xnvnx6', created_at=1730312454, level='info', message='Step 234/345: training loss=0.40', object='fine_tuning.job.event', data={'step': 234, 'train_loss': 0.39803409576416016, 'total_steps': 345, 'train_mean_token_accuracy': 0.9285714030265808}, type='metrics')\n",
      "FineTuningJobEvent(id='ftevent-LSoKq8ZQSamLkhOyqo81xIOl', created_at=1730312454, level='info', message='Step 233/345: training loss=0.24', object='fine_tuning.job.event', data={'step': 233, 'train_loss': 0.23631280660629272, 'total_steps': 345, 'train_mean_token_accuracy': 0.96875}, type='metrics')\n",
      "FineTuningJobEvent(id='ftevent-gR17KqP0YhB2pvGghk6xQigK', created_at=1730312452, level='info', message='Step 232/345: training loss=0.43', object='fine_tuning.job.event', data={'step': 232, 'train_loss': 0.42624205350875854, 'total_steps': 345, 'train_mean_token_accuracy': 0.8823529481887817}, type='metrics')\n",
      "FineTuningJobEvent(id='ftevent-NnAlnLh5QbxiGVri9K4FztxT', created_at=1730312452, level='info', message='Step 231/345: training loss=0.57', object='fine_tuning.job.event', data={'step': 231, 'train_loss': 0.5711835622787476, 'total_steps': 345, 'train_mean_token_accuracy': 0.8999999761581421}, type='metrics')\n",
      "FineTuningJobEvent(id='ftevent-pvnqT2IWoviB1DylWUcA2HTK', created_at=1730312449, level='info', message='Step 230/345: training loss=0.57', object='fine_tuning.job.event', data={'step': 230, 'train_loss': 0.5657894611358643, 'total_steps': 345, 'train_mean_token_accuracy': 0.875}, type='metrics')\n",
      "FineTuningJobEvent(id='ftevent-bt0VmTQDFHA6cyDdjYWNa5FR', created_at=1730312435, level='info', message='Step 229/345: training loss=0.38', object='fine_tuning.job.event', data={'step': 229, 'train_loss': 0.3756798207759857, 'total_steps': 345, 'train_mean_token_accuracy': 0.9142857193946838}, type='metrics')\n",
      "FineTuningJobEvent(id='ftevent-yk5gC3ctnUeoMx2CFQ3hDaCk', created_at=1730312435, level='info', message='Step 228/345: training loss=0.97', object='fine_tuning.job.event', data={'step': 228, 'train_loss': 0.9727842807769775, 'total_steps': 345, 'train_mean_token_accuracy': 0.6470588445663452}, type='metrics')\n",
      "FineTuningJobEvent(id='ftevent-gWxEmVDnN3jLGBvud6qw6SIF', created_at=1730312435, level='info', message='Step 227/345: training loss=0.63', object='fine_tuning.job.event', data={'step': 227, 'train_loss': 0.6322540640830994, 'total_steps': 345, 'train_mean_token_accuracy': 0.800000011920929}, type='metrics')\n",
      "FineTuningJobEvent(id='ftevent-cSrIh3kiVg2yDz6S0Z7nE7ZM', created_at=1730312433, level='info', message='Step 226/345: training loss=1.05', object='fine_tuning.job.event', data={'step': 226, 'train_loss': 1.0494831800460815, 'total_steps': 345, 'train_mean_token_accuracy': 0.7307692170143127}, type='metrics')\n",
      "FineTuningJobEvent(id='ftevent-g6AAGi1NweFXliHJVyuKOJ5h', created_at=1730312433, level='info', message='Step 225/345: training loss=0.44', object='fine_tuning.job.event', data={'step': 225, 'train_loss': 0.4396416246891022, 'total_steps': 345, 'train_mean_token_accuracy': 0.8285714387893677}, type='metrics')\n",
      "FineTuningJobEvent(id='ftevent-uLldDs7HlZ9VZOzJgSXda1jV', created_at=1730312430, level='info', message='Step 224/345: training loss=0.78', object='fine_tuning.job.event', data={'step': 224, 'train_loss': 0.7791547775268555, 'total_steps': 345, 'train_mean_token_accuracy': 0.7837837934494019}, type='metrics')\n",
      "FineTuningJobEvent(id='ftevent-zDzUJ5FveznpuwOeyFMbofr9', created_at=1730312430, level='info', message='Step 223/345: training loss=0.81', object='fine_tuning.job.event', data={'step': 223, 'train_loss': 0.8085309267044067, 'total_steps': 345, 'train_mean_token_accuracy': 0.807692289352417}, type='metrics')\n",
      "FineTuningJobEvent(id='ftevent-0cPr37031BRv6AaxSwcAWmsW', created_at=1730312430, level='info', message='Step 222/345: training loss=0.38', object='fine_tuning.job.event', data={'step': 222, 'train_loss': 0.38078850507736206, 'total_steps': 345, 'train_mean_token_accuracy': 0.8947368264198303}, type='metrics')\n",
      "FineTuningJobEvent(id='ftevent-80mQpI81I0J8BK4X3PPbVPWR', created_at=1730312428, level='info', message='Step 221/345: training loss=0.32', object='fine_tuning.job.event', data={'step': 221, 'train_loss': 0.32002025842666626, 'total_steps': 345, 'train_mean_token_accuracy': 0.8888888955116272}, type='metrics')\n",
      "FineTuningJobEvent(id='ftevent-LcYYyUoe40QzFlMn2recjQu0', created_at=1730312428, level='info', message='Step 220/345: training loss=0.27', object='fine_tuning.job.event', data={'step': 220, 'train_loss': 0.27209994196891785, 'total_steps': 345, 'train_mean_token_accuracy': 0.8421052694320679}, type='metrics')\n",
      "FineTuningJobEvent(id='ftevent-JqQHATCgrsyxNOc8LUta5MNY', created_at=1730312428, level='info', message='Step 219/345: training loss=0.19', object='fine_tuning.job.event', data={'step': 219, 'train_loss': 0.1883847415447235, 'total_steps': 345, 'train_mean_token_accuracy': 0.9523809552192688}, type='metrics')\n",
      "FineTuningJobEvent(id='ftevent-FY1RR5PP2nz0L5Y3T72Zg8ao', created_at=1730312425, level='info', message='Step 218/345: training loss=0.08', object='fine_tuning.job.event', data={'step': 218, 'train_loss': 0.08445803076028824, 'total_steps': 345, 'train_mean_token_accuracy': 1.0}, type='metrics')\n",
      "FineTuningJobEvent(id='ftevent-UnuTYDYjxmvwuJ26Mq8MdepF', created_at=1730312425, level='info', message='Step 217/345: training loss=0.27', object='fine_tuning.job.event', data={'step': 217, 'train_loss': 0.27112701535224915, 'total_steps': 345, 'train_mean_token_accuracy': 0.8928571343421936}, type='metrics')\n",
      "FineTuningJobEvent(id='ftevent-aArKx3g6ikJzfgdbNEiBe9Kl', created_at=1730312425, level='info', message='Step 216/345: training loss=0.66', object='fine_tuning.job.event', data={'step': 216, 'train_loss': 0.6550377011299133, 'total_steps': 345, 'train_mean_token_accuracy': 0.7631579041481018}, type='metrics')\n",
      "FineTuningJobEvent(id='ftevent-k3HOaSBTGmE2MiBQjqhTJidO', created_at=1730312423, level='info', message='Step 215/345: training loss=0.85', object='fine_tuning.job.event', data={'step': 215, 'train_loss': 0.8521265983581543, 'total_steps': 345, 'train_mean_token_accuracy': 0.71875}, type='metrics')\n",
      "FineTuningJobEvent(id='ftevent-7nUtIj4EK4ULry4f6fxmNUXM', created_at=1730312422, level='info', message='Step 214/345: training loss=0.38', object='fine_tuning.job.event', data={'step': 214, 'train_loss': 0.37554892897605896, 'total_steps': 345, 'train_mean_token_accuracy': 0.8947368264198303}, type='metrics')\n",
      "FineTuningJobEvent(id='ftevent-iOixxKrrlCNTkNSLR79GtdV2', created_at=1730312420, level='info', message='Step 213/345: training loss=0.54', object='fine_tuning.job.event', data={'step': 213, 'train_loss': 0.5390994548797607, 'total_steps': 345, 'train_mean_token_accuracy': 0.8333333134651184}, type='metrics')\n",
      "FineTuningJobEvent(id='ftevent-VHOMQFFFHGJlHkYxkMJU3dqO', created_at=1730312420, level='info', message='Step 212/345: training loss=0.34', object='fine_tuning.job.event', data={'step': 212, 'train_loss': 0.3362002372741699, 'total_steps': 345, 'train_mean_token_accuracy': 0.8611111044883728}, type='metrics')\n",
      "FineTuningJobEvent(id='ftevent-stT54cdqylH5w3RNTxebV1ui', created_at=1730312420, level='info', message='Step 211/345: training loss=0.35', object='fine_tuning.job.event', data={'step': 211, 'train_loss': 0.35482534766197205, 'total_steps': 345, 'train_mean_token_accuracy': 0.8214285969734192}, type='metrics')\n",
      "FineTuningJobEvent(id='ftevent-LR0pjjRdFeKPR08rvIaQzPwQ', created_at=1730312418, level='info', message='Step 210/345: training loss=0.17', object='fine_tuning.job.event', data={'step': 210, 'train_loss': 0.16926097869873047, 'total_steps': 345, 'train_mean_token_accuracy': 0.9285714030265808}, type='metrics')\n",
      "FineTuningJobEvent(id='ftevent-aFVeq0ANjC9ZRnmYP03Gsfxv', created_at=1730312418, level='info', message='Step 209/345: training loss=0.31', object='fine_tuning.job.event', data={'step': 209, 'train_loss': 0.306253045797348, 'total_steps': 345, 'train_mean_token_accuracy': 0.8666666746139526}, type='metrics')\n",
      "FineTuningJobEvent(id='ftevent-tmyHGYBrl6qTQIkPECLqyesx', created_at=1730312415, level='info', message='Step 208/345: training loss=0.46', object='fine_tuning.job.event', data={'step': 208, 'train_loss': 0.4608277976512909, 'total_steps': 345, 'train_mean_token_accuracy': 0.8148148059844971}, type='metrics')\n",
      "FineTuningJobEvent(id='ftevent-7Jk7yKJ6eGKQelpjfocFMivr', created_at=1730312415, level='info', message='Step 207/345: training loss=0.57', object='fine_tuning.job.event', data={'step': 207, 'train_loss': 0.567581295967102, 'total_steps': 345, 'train_mean_token_accuracy': 0.8648648858070374}, type='metrics')\n",
      "FineTuningJobEvent(id='ftevent-IZOlUUh8k3ReHZSm7mcTRh4v', created_at=1730312415, level='info', message='Step 206/345: training loss=0.31', object='fine_tuning.job.event', data={'step': 206, 'train_loss': 0.3058024048805237, 'total_steps': 345, 'train_mean_token_accuracy': 0.8095238208770752}, type='metrics')\n",
      "FineTuningJobEvent(id='ftevent-8GehIR0yrjEY57bq4tDcmUoM', created_at=1730312413, level='info', message='Step 205/345: training loss=0.49', object='fine_tuning.job.event', data={'step': 205, 'train_loss': 0.49220308661460876, 'total_steps': 345, 'train_mean_token_accuracy': 0.8333333134651184}, type='metrics')\n",
      "FineTuningJobEvent(id='ftevent-SSFr9zsjd0jHLjQQ3CQH2Y6K', created_at=1730312413, level='info', message='Step 204/345: training loss=0.26', object='fine_tuning.job.event', data={'step': 204, 'train_loss': 0.25930270552635193, 'total_steps': 345, 'train_mean_token_accuracy': 0.9090909361839294}, type='metrics')\n",
      "FineTuningJobEvent(id='ftevent-M1keurPtXrczRwE7craXslOz', created_at=1730312410, level='info', message='Step 203/345: training loss=0.41', object='fine_tuning.job.event', data={'step': 203, 'train_loss': 0.4090076684951782, 'total_steps': 345, 'train_mean_token_accuracy': 0.807692289352417}, type='metrics')\n",
      "FineTuningJobEvent(id='ftevent-Ot3xIczFaBlVt97EnClVDJax', created_at=1730312410, level='info', message='Step 202/345: training loss=0.43', object='fine_tuning.job.event', data={'step': 202, 'train_loss': 0.4299558997154236, 'total_steps': 345, 'train_mean_token_accuracy': 0.9444444179534912}, type='metrics')\n",
      "FineTuningJobEvent(id='ftevent-1kIJ2NM0647kIZ1H1XZhcpmd', created_at=1730312410, level='info', message='Step 201/345: training loss=1.52', object='fine_tuning.job.event', data={'step': 201, 'train_loss': 1.5160794258117676, 'total_steps': 345, 'train_mean_token_accuracy': 0.5625}, type='metrics')\n",
      "FineTuningJobEvent(id='ftevent-tLXUC3LcTeIIDTsXVuBfD1P2', created_at=1730312408, level='info', message='Step 200/345: training loss=0.39', object='fine_tuning.job.event', data={'step': 200, 'train_loss': 0.39390355348587036, 'total_steps': 345, 'train_mean_token_accuracy': 0.8500000238418579}, type='metrics')\n",
      "FineTuningJobEvent(id='ftevent-LskB4TUuq8A1FBiAjHCqKLdO', created_at=1730312408, level='info', message='Step 199/345: training loss=1.07', object='fine_tuning.job.event', data={'step': 199, 'train_loss': 1.0665522813796997, 'total_steps': 345, 'train_mean_token_accuracy': 0.695652186870575}, type='metrics')\n",
      "FineTuningJobEvent(id='ftevent-hnTrQBrgoQXW5Jg68WSzE20B', created_at=1730312405, level='info', message='Step 198/345: training loss=0.28', object='fine_tuning.job.event', data={'step': 198, 'train_loss': 0.280343621969223, 'total_steps': 345, 'train_mean_token_accuracy': 0.8947368264198303}, type='metrics')\n",
      "FineTuningJobEvent(id='ftevent-tWOC1ztAccrGBFJDftB9najd', created_at=1730312405, level='info', message='Step 197/345: training loss=0.72', object='fine_tuning.job.event', data={'step': 197, 'train_loss': 0.7238603234291077, 'total_steps': 345, 'train_mean_token_accuracy': 0.7916666865348816}, type='metrics')\n",
      "FineTuningJobEvent(id='ftevent-iQgcCqPf8b2BHyn6t8l3Vs4g', created_at=1730312405, level='info', message='Step 196/345: training loss=1.02', object='fine_tuning.job.event', data={'step': 196, 'train_loss': 1.015939474105835, 'total_steps': 345, 'train_mean_token_accuracy': 0.6428571343421936}, type='metrics')\n",
      "FineTuningJobEvent(id='ftevent-MCs5rcUOV7beJINWdZAsQOxg', created_at=1730312403, level='info', message='Step 195/345: training loss=0.87', object='fine_tuning.job.event', data={'step': 195, 'train_loss': 0.8671928644180298, 'total_steps': 345, 'train_mean_token_accuracy': 0.7692307829856873}, type='metrics')\n",
      "FineTuningJobEvent(id='ftevent-N1Lxwf0h4Czq1No7irUGxkmp', created_at=1730312403, level='info', message='Step 194/345: training loss=0.29', object='fine_tuning.job.event', data={'step': 194, 'train_loss': 0.2912227213382721, 'total_steps': 345, 'train_mean_token_accuracy': 0.8846153616905212}, type='metrics')\n",
      "FineTuningJobEvent(id='ftevent-EVYDEHC9aJ5g4papn7HXCTYU', created_at=1730312403, level='info', message='Step 193/345: training loss=0.77', object='fine_tuning.job.event', data={'step': 193, 'train_loss': 0.7699896097183228, 'total_steps': 345, 'train_mean_token_accuracy': 0.824999988079071}, type='metrics')\n",
      "FineTuningJobEvent(id='ftevent-4aZcIDHBNSA2LVulJFKF74s5', created_at=1730312401, level='info', message='Step 192/345: training loss=0.36', object='fine_tuning.job.event', data={'step': 192, 'train_loss': 0.35747087001800537, 'total_steps': 345, 'train_mean_token_accuracy': 0.8461538553237915}, type='metrics')\n",
      "FineTuningJobEvent(id='ftevent-XB5sCBIpC196SYXxltmKTsxh', created_at=1730312401, level='info', message='Step 191/345: training loss=0.86', object='fine_tuning.job.event', data={'step': 191, 'train_loss': 0.858894944190979, 'total_steps': 345, 'train_mean_token_accuracy': 0.699999988079071}, type='metrics')\n",
      "FineTuningJobEvent(id='ftevent-U6ilST6TYpOjdgVCHLxzh1Wa', created_at=1730312398, level='info', message='Step 190/345: training loss=0.55', object='fine_tuning.job.event', data={'step': 190, 'train_loss': 0.5491296648979187, 'total_steps': 345, 'train_mean_token_accuracy': 0.7599999904632568}, type='metrics')\n",
      "FineTuningJobEvent(id='ftevent-ajTcI51zAixA8xjGYzWrHorr', created_at=1730312398, level='info', message='Step 189/345: training loss=0.38', object='fine_tuning.job.event', data={'step': 189, 'train_loss': 0.3765140473842621, 'total_steps': 345, 'train_mean_token_accuracy': 0.8799999952316284}, type='metrics')\n",
      "FineTuningJobEvent(id='ftevent-Ja9LeZKA80nIZJXGTmltYrWK', created_at=1730312398, level='info', message='Step 188/345: training loss=0.38', object='fine_tuning.job.event', data={'step': 188, 'train_loss': 0.38238000869750977, 'total_steps': 345, 'train_mean_token_accuracy': 0.8999999761581421}, type='metrics')\n",
      "FineTuningJobEvent(id='ftevent-uNWBS8o9ofq7hVf56vUJKvJC', created_at=1730312396, level='info', message='Step 187/345: training loss=0.33', object='fine_tuning.job.event', data={'step': 187, 'train_loss': 0.32554325461387634, 'total_steps': 345, 'train_mean_token_accuracy': 0.9047619104385376}, type='metrics')\n",
      "FineTuningJobEvent(id='ftevent-zcqNSBBEeivhpo5O5kGPkGES', created_at=1730312396, level='info', message='Step 186/345: training loss=0.67', object='fine_tuning.job.event', data={'step': 186, 'train_loss': 0.6691495776176453, 'total_steps': 345, 'train_mean_token_accuracy': 0.8399999737739563}, type='metrics')\n",
      "FineTuningJobEvent(id='ftevent-MILj9NjDCAVjuKBsb9S1B2Zd', created_at=1730312396, level='info', message='Step 185/345: training loss=0.43', object='fine_tuning.job.event', data={'step': 185, 'train_loss': 0.4339631497859955, 'total_steps': 345, 'train_mean_token_accuracy': 0.8333333134651184}, type='metrics')\n",
      "FineTuningJobEvent(id='ftevent-X4OwBEcvs1kP7fBHRyxWgKdX', created_at=1730312393, level='info', message='Step 184/345: training loss=0.58', object='fine_tuning.job.event', data={'step': 184, 'train_loss': 0.5790386199951172, 'total_steps': 345, 'train_mean_token_accuracy': 0.7916666865348816}, type='metrics')\n",
      "FineTuningJobEvent(id='ftevent-f1hE5xPjMvqmfJEQ9ywSdQ7N', created_at=1730312393, level='info', message='Step 183/345: training loss=0.75', object='fine_tuning.job.event', data={'step': 183, 'train_loss': 0.7481261491775513, 'total_steps': 345, 'train_mean_token_accuracy': 0.7142857313156128}, type='metrics')\n",
      "FineTuningJobEvent(id='ftevent-5s4KaMxHIn3SHVYIRMma8uII', created_at=1730312391, level='info', message='Step 182/345: training loss=0.39', object='fine_tuning.job.event', data={'step': 182, 'train_loss': 0.3919983506202698, 'total_steps': 345, 'train_mean_token_accuracy': 0.8648648858070374}, type='metrics')\n",
      "FineTuningJobEvent(id='ftevent-JmRhRxxavVmR1kt17Z97k47Z', created_at=1730312391, level='info', message='Step 181/345: training loss=0.41', object='fine_tuning.job.event', data={'step': 181, 'train_loss': 0.4093942642211914, 'total_steps': 345, 'train_mean_token_accuracy': 0.8333333134651184}, type='metrics')\n",
      "FineTuningJobEvent(id='ftevent-y5zZksInzaCHPVSOkl2KJrbr', created_at=1730312390, level='info', message='Step 180/345: training loss=0.68', object='fine_tuning.job.event', data={'step': 180, 'train_loss': 0.6834935545921326, 'total_steps': 345, 'train_mean_token_accuracy': 0.8064516186714172}, type='metrics')\n",
      "FineTuningJobEvent(id='ftevent-L2qNcNBbWYP3fqXEm7Fcxlnx', created_at=1730312388, level='info', message='Step 179/345: training loss=0.70', object='fine_tuning.job.event', data={'step': 179, 'train_loss': 0.7004599571228027, 'total_steps': 345, 'train_mean_token_accuracy': 0.7352941036224365}, type='metrics')\n",
      "FineTuningJobEvent(id='ftevent-myxnsHPS59WcdV8gOcxCe84V', created_at=1730312388, level='info', message='Step 178/345: training loss=0.51', object='fine_tuning.job.event', data={'step': 178, 'train_loss': 0.5136058926582336, 'total_steps': 345, 'train_mean_token_accuracy': 0.8999999761581421}, type='metrics')\n",
      "FineTuningJobEvent(id='ftevent-0oy9GGRZbavlrGgNhbNxBYaG', created_at=1730312386, level='info', message='Step 177/345: training loss=0.75', object='fine_tuning.job.event', data={'step': 177, 'train_loss': 0.7492210865020752, 'total_steps': 345, 'train_mean_token_accuracy': 0.8372092843055725}, type='metrics')\n",
      "FineTuningJobEvent(id='ftevent-UzvkF2asrlvMpqZ5ZeWgkpRG', created_at=1730312386, level='info', message='Step 176/345: training loss=0.70', object='fine_tuning.job.event', data={'step': 176, 'train_loss': 0.6977878212928772, 'total_steps': 345, 'train_mean_token_accuracy': 0.7142857313156128}, type='metrics')\n",
      "FineTuningJobEvent(id='ftevent-xWQ8nOXNuySPmiBj0XjtjhFR', created_at=1730312386, level='info', message='Step 175/345: training loss=0.44', object='fine_tuning.job.event', data={'step': 175, 'train_loss': 0.44327783584594727, 'total_steps': 345, 'train_mean_token_accuracy': 0.8055555820465088}, type='metrics')\n",
      "FineTuningJobEvent(id='ftevent-I3OK7CUb5UKjR2j6BTyV2EJY', created_at=1730312383, level='info', message='Step 174/345: training loss=0.85', object='fine_tuning.job.event', data={'step': 174, 'train_loss': 0.8480039238929749, 'total_steps': 345, 'train_mean_token_accuracy': 0.7272727489471436}, type='metrics')\n",
      "FineTuningJobEvent(id='ftevent-fgdLV9VzgeP2deWi1BOvjHUn', created_at=1730312383, level='info', message='Step 173/345: training loss=0.79', object='fine_tuning.job.event', data={'step': 173, 'train_loss': 0.7874362468719482, 'total_steps': 345, 'train_mean_token_accuracy': 0.7297297120094299}, type='metrics')\n",
      "FineTuningJobEvent(id='ftevent-YE8uhgiEznwfr7YkkEflJ6v0', created_at=1730312381, level='info', message='Step 172/345: training loss=0.63', object='fine_tuning.job.event', data={'step': 172, 'train_loss': 0.6346901059150696, 'total_steps': 345, 'train_mean_token_accuracy': 0.795918345451355}, type='metrics')\n",
      "FineTuningJobEvent(id='ftevent-ZZjm0W9L7tKTtsl43HUIBOF0', created_at=1730312381, level='info', message='Step 171/345: training loss=0.46', object='fine_tuning.job.event', data={'step': 171, 'train_loss': 0.46029630303382874, 'total_steps': 345, 'train_mean_token_accuracy': 0.8823529481887817}, type='metrics')\n",
      "FineTuningJobEvent(id='ftevent-TjaGVNzWPV4NxNkeCKPOJ97j', created_at=1730312381, level='info', message='Step 170/345: training loss=0.65', object='fine_tuning.job.event', data={'step': 170, 'train_loss': 0.6539099216461182, 'total_steps': 345, 'train_mean_token_accuracy': 0.8333333134651184}, type='metrics')\n",
      "FineTuningJobEvent(id='ftevent-da9vJXezLYvXVgVTgHfQxr9J', created_at=1730312378, level='info', message='Step 169/345: training loss=0.45', object='fine_tuning.job.event', data={'step': 169, 'train_loss': 0.4457893371582031, 'total_steps': 345, 'train_mean_token_accuracy': 0.9473684430122375}, type='metrics')\n",
      "FineTuningJobEvent(id='ftevent-For3nDow44zljX3U1lXwcpjW', created_at=1730312378, level='info', message='Step 168/345: training loss=0.55', object='fine_tuning.job.event', data={'step': 168, 'train_loss': 0.5516484975814819, 'total_steps': 345, 'train_mean_token_accuracy': 0.8837209343910217}, type='metrics')\n",
      "FineTuningJobEvent(id='ftevent-J7xicZohF2TMVCRSscTyKLPE', created_at=1730312376, level='info', message='Step 167/345: training loss=0.32', object='fine_tuning.job.event', data={'step': 167, 'train_loss': 0.31956857442855835, 'total_steps': 345, 'train_mean_token_accuracy': 0.939393937587738}, type='metrics')\n",
      "FineTuningJobEvent(id='ftevent-k7IgjQg0vIJWSr22pvUMEWxc', created_at=1730312376, level='info', message='Step 166/345: training loss=0.47', object='fine_tuning.job.event', data={'step': 166, 'train_loss': 0.4693557620048523, 'total_steps': 345, 'train_mean_token_accuracy': 0.800000011920929}, type='metrics')\n",
      "FineTuningJobEvent(id='ftevent-S12VHnpRXOvVk46jAl4pLvmt', created_at=1730312376, level='info', message='Step 165/345: training loss=1.02', object='fine_tuning.job.event', data={'step': 165, 'train_loss': 1.0215826034545898, 'total_steps': 345, 'train_mean_token_accuracy': 0.699999988079071}, type='metrics')\n",
      "FineTuningJobEvent(id='ftevent-GPy8wBhD6YsO1WFtWg6Q9moK', created_at=1730312374, level='info', message='Step 164/345: training loss=0.42', object='fine_tuning.job.event', data={'step': 164, 'train_loss': 0.42055365443229675, 'total_steps': 345, 'train_mean_token_accuracy': 0.8823529481887817}, type='metrics')\n",
      "FineTuningJobEvent(id='ftevent-HSvSDgwv8XLuiWoz5PYl30jH', created_at=1730312374, level='info', message='Step 163/345: training loss=0.90', object='fine_tuning.job.event', data={'step': 163, 'train_loss': 0.8961405158042908, 'total_steps': 345, 'train_mean_token_accuracy': 0.7647058963775635}, type='metrics')\n",
      "FineTuningJobEvent(id='ftevent-DAe1qxiaAhVidGD5AsGMN67X', created_at=1730312374, level='info', message='Step 162/345: training loss=0.39', object='fine_tuning.job.event', data={'step': 162, 'train_loss': 0.3852565586566925, 'total_steps': 345, 'train_mean_token_accuracy': 0.8709677457809448}, type='metrics')\n",
      "FineTuningJobEvent(id='ftevent-nY6E4VMg12xhCfA9cPMK97X5', created_at=1730312371, level='info', message='Step 161/345: training loss=0.26', object='fine_tuning.job.event', data={'step': 161, 'train_loss': 0.2648366391658783, 'total_steps': 345, 'train_mean_token_accuracy': 0.9444444179534912}, type='metrics')\n",
      "FineTuningJobEvent(id='ftevent-fLNJk5kHaswDOo60nhlw7ubw', created_at=1730312371, level='info', message='Step 160/345: training loss=0.56', object='fine_tuning.job.event', data={'step': 160, 'train_loss': 0.5575380325317383, 'total_steps': 345, 'train_mean_token_accuracy': 0.8205128312110901}, type='metrics')\n",
      "FineTuningJobEvent(id='ftevent-urJemQAFuQmiCb9gslU5InlB', created_at=1730312368, level='info', message='Step 159/345: training loss=0.51', object='fine_tuning.job.event', data={'step': 159, 'train_loss': 0.509059727191925, 'total_steps': 345, 'train_mean_token_accuracy': 0.84375}, type='metrics')\n",
      "FineTuningJobEvent(id='ftevent-fXHYoqUKprd0hzVjSZdxg4np', created_at=1730312368, level='info', message='Step 158/345: training loss=0.38', object='fine_tuning.job.event', data={'step': 158, 'train_loss': 0.377368301153183, 'total_steps': 345, 'train_mean_token_accuracy': 0.7916666865348816}, type='metrics')\n",
      "FineTuningJobEvent(id='ftevent-f3ufY4iNjASTj6yhKSIRuEKf', created_at=1730312368, level='info', message='Step 157/345: training loss=0.45', object='fine_tuning.job.event', data={'step': 157, 'train_loss': 0.4541172981262207, 'total_steps': 345, 'train_mean_token_accuracy': 0.8181818127632141}, type='metrics')\n",
      "FineTuningJobEvent(id='ftevent-sUY15saqdzvCVRdbX4xNoKlu', created_at=1730312366, level='info', message='Step 156/345: training loss=1.48', object='fine_tuning.job.event', data={'step': 156, 'train_loss': 1.4806218147277832, 'total_steps': 345, 'train_mean_token_accuracy': 0.6315789222717285}, type='metrics')\n",
      "FineTuningJobEvent(id='ftevent-fXtv4CqtWs1FaSqxrtWWynex', created_at=1730312366, level='info', message='Step 155/345: training loss=0.25', object='fine_tuning.job.event', data={'step': 155, 'train_loss': 0.25246700644493103, 'total_steps': 345, 'train_mean_token_accuracy': 0.8947368264198303}, type='metrics')\n",
      "FineTuningJobEvent(id='ftevent-lA3u6VV01Jc5F0FzlLed0L0K', created_at=1730312364, level='info', message='Step 154/345: training loss=1.08', object='fine_tuning.job.event', data={'step': 154, 'train_loss': 1.0780946016311646, 'total_steps': 345, 'train_mean_token_accuracy': 0.695652186870575}, type='metrics')\n",
      "FineTuningJobEvent(id='ftevent-rVgIAstopHjSf2s6gmpDRmVE', created_at=1730312364, level='info', message='Step 153/345: training loss=0.85', object='fine_tuning.job.event', data={'step': 153, 'train_loss': 0.8462417721748352, 'total_steps': 345, 'train_mean_token_accuracy': 0.695652186870575}, type='metrics')\n",
      "FineTuningJobEvent(id='ftevent-H29fsw4QJZxwCQGesYo9kx64', created_at=1730312364, level='info', message='Step 152/345: training loss=0.93', object='fine_tuning.job.event', data={'step': 152, 'train_loss': 0.9340675473213196, 'total_steps': 345, 'train_mean_token_accuracy': 0.7428571581840515}, type='metrics')\n",
      "FineTuningJobEvent(id='ftevent-kaauQf0Fn21zX3xEj2vVRNaR', created_at=1730312364, level='info', message='Step 151/345: training loss=0.46', object='fine_tuning.job.event', data={'step': 151, 'train_loss': 0.4586564302444458, 'total_steps': 345, 'train_mean_token_accuracy': 0.774193525314331}, type='metrics')\n",
      "FineTuningJobEvent(id='ftevent-eqMxMvezSrY4Dl2NizqbnfqB', created_at=1730312360, level='info', message='Step 150/345: training loss=0.53', object='fine_tuning.job.event', data={'step': 150, 'train_loss': 0.5254213809967041, 'total_steps': 345, 'train_mean_token_accuracy': 0.8409090638160706}, type='metrics')\n",
      "FineTuningJobEvent(id='ftevent-oz78OjfU6fHEZBO966s3dTjs', created_at=1730312360, level='info', message='Step 149/345: training loss=0.87', object='fine_tuning.job.event', data={'step': 149, 'train_loss': 0.8721210956573486, 'total_steps': 345, 'train_mean_token_accuracy': 0.7894737124443054}, type='metrics')\n",
      "FineTuningJobEvent(id='ftevent-zlXZtIzQ0ICLkZvFlGUw2lQY', created_at=1730312358, level='info', message='Step 148/345: training loss=0.31', object='fine_tuning.job.event', data={'step': 148, 'train_loss': 0.3141566514968872, 'total_steps': 345, 'train_mean_token_accuracy': 0.875}, type='metrics')\n",
      "FineTuningJobEvent(id='ftevent-gF5UKYN6iXcvKdiXEYkY0sTf', created_at=1730312358, level='info', message='Step 147/345: training loss=0.75', object='fine_tuning.job.event', data={'step': 147, 'train_loss': 0.7508149743080139, 'total_steps': 345, 'train_mean_token_accuracy': 0.800000011920929}, type='metrics')\n",
      "FineTuningJobEvent(id='ftevent-aVpRegFMI00Gp5ITQ4F4RbLJ', created_at=1730312358, level='info', message='Step 146/345: training loss=0.51', object='fine_tuning.job.event', data={'step': 146, 'train_loss': 0.5140910744667053, 'total_steps': 345, 'train_mean_token_accuracy': 0.8421052694320679}, type='metrics')\n",
      "FineTuningJobEvent(id='ftevent-AvOLHMg10bRn4sP5mVYwIDrW', created_at=1730312356, level='info', message='Step 145/345: training loss=0.38', object='fine_tuning.job.event', data={'step': 145, 'train_loss': 0.3794875741004944, 'total_steps': 345, 'train_mean_token_accuracy': 0.8888888955116272}, type='metrics')\n",
      "FineTuningJobEvent(id='ftevent-stYTEK8me3KAy8qm1xW6B74c', created_at=1730312356, level='info', message='Step 144/345: training loss=0.74', object='fine_tuning.job.event', data={'step': 144, 'train_loss': 0.7398175597190857, 'total_steps': 345, 'train_mean_token_accuracy': 0.782608687877655}, type='metrics')\n",
      "FineTuningJobEvent(id='ftevent-8xnQMvwXMR53eeku2t9D5BYS', created_at=1730312353, level='info', message='Step 143/345: training loss=0.46', object='fine_tuning.job.event', data={'step': 143, 'train_loss': 0.46237048506736755, 'total_steps': 345, 'train_mean_token_accuracy': 0.9583333134651184}, type='metrics')\n",
      "FineTuningJobEvent(id='ftevent-YDi9JkmtquY1ZW1H5pGyCHYO', created_at=1730312353, level='info', message='Step 142/345: training loss=0.51', object='fine_tuning.job.event', data={'step': 142, 'train_loss': 0.5055627822875977, 'total_steps': 345, 'train_mean_token_accuracy': 0.8536585569381714}, type='metrics')\n",
      "FineTuningJobEvent(id='ftevent-Uqu0UuRIPUc8pi094AV0AuBJ', created_at=1730312353, level='info', message='Step 141/345: training loss=1.14', object='fine_tuning.job.event', data={'step': 141, 'train_loss': 1.1424304246902466, 'total_steps': 345, 'train_mean_token_accuracy': 0.7083333134651184}, type='metrics')\n",
      "FineTuningJobEvent(id='ftevent-zL2gutnzEwo6QhgDUQQeBViY', created_at=1730312351, level='info', message='Step 140/345: training loss=0.85', object='fine_tuning.job.event', data={'step': 140, 'train_loss': 0.8457623720169067, 'total_steps': 345, 'train_mean_token_accuracy': 0.8823529481887817}, type='metrics')\n",
      "FineTuningJobEvent(id='ftevent-yH14cc8MLBLcniMCWnvzbhb9', created_at=1730312351, level='info', message='Step 139/345: training loss=0.55', object='fine_tuning.job.event', data={'step': 139, 'train_loss': 0.5512865781784058, 'total_steps': 345, 'train_mean_token_accuracy': 0.800000011920929}, type='metrics')\n",
      "FineTuningJobEvent(id='ftevent-JWoCjtOD8DdGLFdaFywiBMY6', created_at=1730312351, level='info', message='Step 138/345: training loss=0.69', object='fine_tuning.job.event', data={'step': 138, 'train_loss': 0.6861852407455444, 'total_steps': 345, 'train_mean_token_accuracy': 0.7931034564971924}, type='metrics')\n",
      "FineTuningJobEvent(id='ftevent-7gXBPjrwrS4c9z25Awslzj3H', created_at=1730312348, level='info', message='Step 137/345: training loss=0.45', object='fine_tuning.job.event', data={'step': 137, 'train_loss': 0.4498315453529358, 'total_steps': 345, 'train_mean_token_accuracy': 0.8399999737739563}, type='metrics')\n",
      "FineTuningJobEvent(id='ftevent-FsHRCCNKb8KwVGVr6dPwYhv8', created_at=1730312348, level='info', message='Step 136/345: training loss=0.61', object='fine_tuning.job.event', data={'step': 136, 'train_loss': 0.607093095779419, 'total_steps': 345, 'train_mean_token_accuracy': 0.8461538553237915}, type='metrics')\n",
      "FineTuningJobEvent(id='ftevent-Sgy09XfmEVpPxs84uQSBpsns', created_at=1730312346, level='info', message='Step 135/345: training loss=0.55', object='fine_tuning.job.event', data={'step': 135, 'train_loss': 0.5490819811820984, 'total_steps': 345, 'train_mean_token_accuracy': 0.8461538553237915}, type='metrics')\n",
      "FineTuningJobEvent(id='ftevent-j4N7kEqITwBqHFS7jFv1jK0n', created_at=1730312346, level='info', message='Step 134/345: training loss=1.17', object='fine_tuning.job.event', data={'step': 134, 'train_loss': 1.1698838472366333, 'total_steps': 345, 'train_mean_token_accuracy': 0.6000000238418579}, type='metrics')\n",
      "FineTuningJobEvent(id='ftevent-HQ05bi3al5TSSltM8iKjkCh0', created_at=1730312346, level='info', message='Step 133/345: training loss=0.92', object='fine_tuning.job.event', data={'step': 133, 'train_loss': 0.9191673994064331, 'total_steps': 345, 'train_mean_token_accuracy': 0.75}, type='metrics')\n",
      "FineTuningJobEvent(id='ftevent-VPJOZdrXO6L8YSeeEv5RWI9z', created_at=1730312343, level='info', message='Step 132/345: training loss=0.77', object='fine_tuning.job.event', data={'step': 132, 'train_loss': 0.772966742515564, 'total_steps': 345, 'train_mean_token_accuracy': 0.8500000238418579}, type='metrics')\n",
      "FineTuningJobEvent(id='ftevent-rtmINxlYQVYsfHLps0zTtOBA', created_at=1730312343, level='info', message='Step 131/345: training loss=0.83', object='fine_tuning.job.event', data={'step': 131, 'train_loss': 0.8258553147315979, 'total_steps': 345, 'train_mean_token_accuracy': 0.807692289352417}, type='metrics')\n",
      "FineTuningJobEvent(id='ftevent-yEdGjoOxW7r972xzEkOfnVId', created_at=1730312343, level='info', message='Step 130/345: training loss=0.56', object='fine_tuning.job.event', data={'step': 130, 'train_loss': 0.5625523328781128, 'total_steps': 345, 'train_mean_token_accuracy': 0.8888888955116272}, type='metrics')\n",
      "FineTuningJobEvent(id='ftevent-GpIewavWepihcraGJ7z8lkzw', created_at=1730312341, level='info', message='Step 129/345: training loss=0.55', object='fine_tuning.job.event', data={'step': 129, 'train_loss': 0.5541283488273621, 'total_steps': 345, 'train_mean_token_accuracy': 0.7407407164573669}, type='metrics')\n",
      "FineTuningJobEvent(id='ftevent-vqYy7JEfNcLsRrOhLt6J2HXp', created_at=1730312340, level='info', message='Step 128/345: training loss=0.65', object='fine_tuning.job.event', data={'step': 128, 'train_loss': 0.6477013230323792, 'total_steps': 345, 'train_mean_token_accuracy': 0.71875}, type='metrics')\n",
      "FineTuningJobEvent(id='ftevent-xM9trtPcd95m7BajANDpNJl2', created_at=1730312338, level='info', message='Step 127/345: training loss=0.55', object='fine_tuning.job.event', data={'step': 127, 'train_loss': 0.5468530058860779, 'total_steps': 345, 'train_mean_token_accuracy': 0.8636363744735718}, type='metrics')\n",
      "FineTuningJobEvent(id='ftevent-XKMVlrchc0yqjo52oaVXwkrK', created_at=1730312338, level='info', message='Step 126/345: training loss=0.59', object='fine_tuning.job.event', data={'step': 126, 'train_loss': 0.5855128169059753, 'total_steps': 345, 'train_mean_token_accuracy': 0.8999999761581421}, type='metrics')\n",
      "FineTuningJobEvent(id='ftevent-rw9z0nfmdQRBR1o7G0an816a', created_at=1730312338, level='info', message='Step 125/345: training loss=0.69', object='fine_tuning.job.event', data={'step': 125, 'train_loss': 0.6918714642524719, 'total_steps': 345, 'train_mean_token_accuracy': 0.9047619104385376}, type='metrics')\n",
      "FineTuningJobEvent(id='ftevent-aPh0VaP7BWK4zaUWsVYCLKYv', created_at=1730312336, level='info', message='Step 124/345: training loss=0.62', object='fine_tuning.job.event', data={'step': 124, 'train_loss': 0.6161770224571228, 'total_steps': 345, 'train_mean_token_accuracy': 0.800000011920929}, type='metrics')\n",
      "FineTuningJobEvent(id='ftevent-128umwm8wjYfzMXMiDYfWSlJ', created_at=1730312336, level='info', message='Step 123/345: training loss=0.37', object='fine_tuning.job.event', data={'step': 123, 'train_loss': 0.36576539278030396, 'total_steps': 345, 'train_mean_token_accuracy': 0.8666666746139526}, type='metrics')\n",
      "FineTuningJobEvent(id='ftevent-2xzOh8aPQUutTKzUILOJE7mk', created_at=1730312336, level='info', message='Step 122/345: training loss=1.21', object='fine_tuning.job.event', data={'step': 122, 'train_loss': 1.2084336280822754, 'total_steps': 345, 'train_mean_token_accuracy': 0.625}, type='metrics')\n",
      "FineTuningJobEvent(id='ftevent-V6uDoOoK9hkP8SuErJAHBSVe', created_at=1730312333, level='info', message='Step 121/345: training loss=0.50', object='fine_tuning.job.event', data={'step': 121, 'train_loss': 0.5008594989776611, 'total_steps': 345, 'train_mean_token_accuracy': 0.8571428656578064}, type='metrics')\n",
      "FineTuningJobEvent(id='ftevent-ewbtbyo39z2NZVuZYKEUdRq4', created_at=1730312333, level='info', message='Step 120/345: training loss=0.43', object='fine_tuning.job.event', data={'step': 120, 'train_loss': 0.4272350072860718, 'total_steps': 345, 'train_mean_token_accuracy': 0.875}, type='metrics')\n",
      "FineTuningJobEvent(id='ftevent-2gaBuwOJk16raZLAtHAYlVQI', created_at=1730312333, level='info', message='Step 119/345: training loss=1.04', object='fine_tuning.job.event', data={'step': 119, 'train_loss': 1.0392754077911377, 'total_steps': 345, 'train_mean_token_accuracy': 0.75}, type='metrics')\n",
      "FineTuningJobEvent(id='ftevent-CVHoRwqsCpi8CFQhNDBZMiGP', created_at=1730312330, level='info', message='Step 118/345: training loss=0.45', object='fine_tuning.job.event', data={'step': 118, 'train_loss': 0.4466928243637085, 'total_steps': 345, 'train_mean_token_accuracy': 0.8125}, type='metrics')\n",
      "FineTuningJobEvent(id='ftevent-vsPpJN9UqsUhwMEEMXCYvkyC', created_at=1730312330, level='info', message='Step 117/345: training loss=0.48', object='fine_tuning.job.event', data={'step': 117, 'train_loss': 0.4774095118045807, 'total_steps': 345, 'train_mean_token_accuracy': 0.8571428656578064}, type='metrics')\n",
      "FineTuningJobEvent(id='ftevent-sONjSRsFEyqjds0mapI6YRp2', created_at=1730312328, level='info', message='Step 116/345: training loss=0.61', object='fine_tuning.job.event', data={'step': 116, 'train_loss': 0.6082427501678467, 'total_steps': 345, 'train_mean_token_accuracy': 0.8125}, type='metrics')\n",
      "FineTuningJobEvent(id='ftevent-8IjS6nglRTaXoQcu8mFQafDi', created_at=1730312327, level='info', message='Step 115/345: training loss=0.94', object='fine_tuning.job.event', data={'step': 115, 'train_loss': 0.9406734704971313, 'total_steps': 345, 'train_mean_token_accuracy': 0.8372092843055725}, type='metrics')\n",
      "FineTuningJobEvent(id='ftevent-xCLngFd9YGTG5c4vnUFBJVfY', created_at=1730312313, level='info', message='Step 114/345: training loss=0.95', object='fine_tuning.job.event', data={'step': 114, 'train_loss': 0.9513198733329773, 'total_steps': 345, 'train_mean_token_accuracy': 0.6969696879386902}, type='metrics')\n",
      "FineTuningJobEvent(id='ftevent-8En9KfZD5xPB62laPEttVocq', created_at=1730312311, level='info', message='Step 113/345: training loss=1.44', object='fine_tuning.job.event', data={'step': 113, 'train_loss': 1.442020058631897, 'total_steps': 345, 'train_mean_token_accuracy': 0.574999988079071}, type='metrics')\n",
      "FineTuningJobEvent(id='ftevent-7pgpSIVP0u1GwK9VOiDenirh', created_at=1730312311, level='info', message='Step 112/345: training loss=1.05', object='fine_tuning.job.event', data={'step': 112, 'train_loss': 1.0500333309173584, 'total_steps': 345, 'train_mean_token_accuracy': 0.7045454382896423}, type='metrics')\n",
      "FineTuningJobEvent(id='ftevent-6lHfujUE0S9RxtS4Sqc5QniB', created_at=1730312308, level='info', message='Step 111/345: training loss=1.17', object='fine_tuning.job.event', data={'step': 111, 'train_loss': 1.1743996143341064, 'total_steps': 345, 'train_mean_token_accuracy': 0.6499999761581421}, type='metrics')\n",
      "FineTuningJobEvent(id='ftevent-WebZALax6x50CiHYyDFxYdlf', created_at=1730312308, level='info', message='Step 110/345: training loss=1.13', object='fine_tuning.job.event', data={'step': 110, 'train_loss': 1.133373737335205, 'total_steps': 345, 'train_mean_token_accuracy': 0.5789473652839661}, type='metrics')\n",
      "FineTuningJobEvent(id='ftevent-661ANqxK48KuwjxYtZffIu1C', created_at=1730312308, level='info', message='Step 109/345: training loss=0.99', object='fine_tuning.job.event', data={'step': 109, 'train_loss': 0.9894654154777527, 'total_steps': 345, 'train_mean_token_accuracy': 0.699999988079071}, type='metrics')\n",
      "FineTuningJobEvent(id='ftevent-EzwJsJhdFBPs9K8Omud3qYSW', created_at=1730312305, level='info', message='Step 108/345: training loss=0.86', object='fine_tuning.job.event', data={'step': 108, 'train_loss': 0.8595952987670898, 'total_steps': 345, 'train_mean_token_accuracy': 0.6829268336296082}, type='metrics')\n",
      "FineTuningJobEvent(id='ftevent-dRyDuwJwNpbhoFtXRfR1Vupo', created_at=1730312305, level='info', message='Step 107/345: training loss=1.26', object='fine_tuning.job.event', data={'step': 107, 'train_loss': 1.2568459510803223, 'total_steps': 345, 'train_mean_token_accuracy': 0.5}, type='metrics')\n",
      "FineTuningJobEvent(id='ftevent-r7m1mxhXtF17ZjywXWnO3mnW', created_at=1730312303, level='info', message='Step 106/345: training loss=1.46', object='fine_tuning.job.event', data={'step': 106, 'train_loss': 1.4633688926696777, 'total_steps': 345, 'train_mean_token_accuracy': 0.5384615659713745}, type='metrics')\n",
      "FineTuningJobEvent(id='ftevent-teDOBs5bwu1VW0JN6GC49fcE', created_at=1730312303, level='info', message='Step 105/345: training loss=0.72', object='fine_tuning.job.event', data={'step': 105, 'train_loss': 0.722048819065094, 'total_steps': 345, 'train_mean_token_accuracy': 0.8571428656578064}, type='metrics')\n",
      "FineTuningJobEvent(id='ftevent-PL9idj5wuVVSIiU4EkHkBjDx', created_at=1730312303, level='info', message='Step 104/345: training loss=0.94', object='fine_tuning.job.event', data={'step': 104, 'train_loss': 0.9378128051757812, 'total_steps': 345, 'train_mean_token_accuracy': 0.75}, type='metrics')\n",
      "FineTuningJobEvent(id='ftevent-EvSqxnydtojzaRAwnNVSWDLK', created_at=1730312301, level='info', message='Step 103/345: training loss=1.20', object='fine_tuning.job.event', data={'step': 103, 'train_loss': 1.1995253562927246, 'total_steps': 345, 'train_mean_token_accuracy': 0.6111111044883728}, type='metrics')\n",
      "FineTuningJobEvent(id='ftevent-SaOVEAQ2drFXsfugfWqWUgec', created_at=1730312301, level='info', message='Step 102/345: training loss=1.12', object='fine_tuning.job.event', data={'step': 102, 'train_loss': 1.1159483194351196, 'total_steps': 345, 'train_mean_token_accuracy': 0.7027027010917664}, type='metrics')\n",
      "FineTuningJobEvent(id='ftevent-cCOLfieMhrUcqTzLz8KeDNF5', created_at=1730312300, level='info', message='Step 101/345: training loss=0.90', object='fine_tuning.job.event', data={'step': 101, 'train_loss': 0.9019033312797546, 'total_steps': 345, 'train_mean_token_accuracy': 0.6842105388641357}, type='metrics')\n",
      "FineTuningJobEvent(id='ftevent-szEj2caw9P0Uhs7xbVtEfBkF', created_at=1730312297, level='info', message='Step 100/345: training loss=1.15', object='fine_tuning.job.event', data={'step': 100, 'train_loss': 1.1463062763214111, 'total_steps': 345, 'train_mean_token_accuracy': 0.699999988079071}, type='metrics')\n",
      "FineTuningJobEvent(id='ftevent-sBYMCwgL1SAjLwMPjIPOdGrg', created_at=1730312297, level='info', message='Step 99/345: training loss=0.91', object='fine_tuning.job.event', data={'step': 99, 'train_loss': 0.9132909774780273, 'total_steps': 345, 'train_mean_token_accuracy': 0.7916666865348816}, type='metrics')\n",
      "FineTuningJobEvent(id='ftevent-mjzFKJJFpQth9uPLxChLFCX8', created_at=1730312295, level='info', message='Step 98/345: training loss=1.16', object='fine_tuning.job.event', data={'step': 98, 'train_loss': 1.1586271524429321, 'total_steps': 345, 'train_mean_token_accuracy': 0.7346938848495483}, type='metrics')\n",
      "FineTuningJobEvent(id='ftevent-bhvAvrF66Vpc63NDUbumxl10', created_at=1730312295, level='info', message='Step 97/345: training loss=1.26', object='fine_tuning.job.event', data={'step': 97, 'train_loss': 1.2629010677337646, 'total_steps': 345, 'train_mean_token_accuracy': 0.5}, type='metrics')\n",
      "FineTuningJobEvent(id='ftevent-EvH6LRSuqjpjo2xgsC6vdEse', created_at=1730312295, level='info', message='Step 96/345: training loss=0.92', object='fine_tuning.job.event', data={'step': 96, 'train_loss': 0.9159160852432251, 'total_steps': 345, 'train_mean_token_accuracy': 0.6666666865348816}, type='metrics')\n",
      "FineTuningJobEvent(id='ftevent-Y4RbwepxWgxzThK3UbmM78TJ', created_at=1730312292, level='info', message='Step 95/345: training loss=1.29', object='fine_tuning.job.event', data={'step': 95, 'train_loss': 1.2884340286254883, 'total_steps': 345, 'train_mean_token_accuracy': 0.5652173757553101}, type='metrics')\n",
      "FineTuningJobEvent(id='ftevent-EjrCqUvsAbO884HDJKwpBtxb', created_at=1730312292, level='info', message='Step 94/345: training loss=1.78', object='fine_tuning.job.event', data={'step': 94, 'train_loss': 1.7777479887008667, 'total_steps': 345, 'train_mean_token_accuracy': 0.5625}, type='metrics')\n",
      "FineTuningJobEvent(id='ftevent-RwOoQYCaJ7X1Ul0WnitXWAvo', created_at=1730312292, level='info', message='Step 93/345: training loss=0.98', object='fine_tuning.job.event', data={'step': 93, 'train_loss': 0.9804499745368958, 'total_steps': 345, 'train_mean_token_accuracy': 0.6944444179534912}, type='metrics')\n",
      "FineTuningJobEvent(id='ftevent-TRElSFdo6BamB7pEN7qjdU1p', created_at=1730312290, level='info', message='Step 92/345: training loss=1.01', object='fine_tuning.job.event', data={'step': 92, 'train_loss': 1.0124993324279785, 'total_steps': 345, 'train_mean_token_accuracy': 0.65625}, type='metrics')\n",
      "FineTuningJobEvent(id='ftevent-Dt0aevTaVvHB6h2MZzViturO', created_at=1730312290, level='info', message='Step 91/345: training loss=1.31', object='fine_tuning.job.event', data={'step': 91, 'train_loss': 1.3080620765686035, 'total_steps': 345, 'train_mean_token_accuracy': 0.5384615659713745}, type='metrics')\n",
      "FineTuningJobEvent(id='ftevent-c5f6dUPW3cNU0VqH9nTF12aD', created_at=1730312287, level='info', message='Step 90/345: training loss=0.96', object='fine_tuning.job.event', data={'step': 90, 'train_loss': 0.963599443435669, 'total_steps': 345, 'train_mean_token_accuracy': 0.6315789222717285}, type='metrics')\n",
      "FineTuningJobEvent(id='ftevent-Arh8A6PjxjjB6kZ6tsXv358K', created_at=1730312287, level='info', message='Step 89/345: training loss=0.93', object='fine_tuning.job.event', data={'step': 89, 'train_loss': 0.9339650273323059, 'total_steps': 345, 'train_mean_token_accuracy': 0.6666666865348816}, type='metrics')\n",
      "FineTuningJobEvent(id='ftevent-kVZnINBJt1u3gHMFKbs3YVOQ', created_at=1730312287, level='info', message='Step 88/345: training loss=1.21', object='fine_tuning.job.event', data={'step': 88, 'train_loss': 1.2096251249313354, 'total_steps': 345, 'train_mean_token_accuracy': 0.6875}, type='metrics')\n",
      "FineTuningJobEvent(id='ftevent-xy1YHvB80lnetA8B0KdguhQq', created_at=1730312285, level='info', message='Step 87/345: training loss=0.89', object='fine_tuning.job.event', data={'step': 87, 'train_loss': 0.8852726221084595, 'total_steps': 345, 'train_mean_token_accuracy': 0.6785714030265808}, type='metrics')\n",
      "FineTuningJobEvent(id='ftevent-MNxDyEpIA54IgzDQUlAEtuQf', created_at=1730312285, level='info', message='Step 86/345: training loss=0.73', object='fine_tuning.job.event', data={'step': 86, 'train_loss': 0.7335155606269836, 'total_steps': 345, 'train_mean_token_accuracy': 0.7222222089767456}, type='metrics')\n",
      "FineTuningJobEvent(id='ftevent-tGFDxT5ecSKONF8Rai9kJDN0', created_at=1730312285, level='info', message='Step 85/345: training loss=0.96', object='fine_tuning.job.event', data={'step': 85, 'train_loss': 0.9648029804229736, 'total_steps': 345, 'train_mean_token_accuracy': 0.6875}, type='metrics')\n",
      "FineTuningJobEvent(id='ftevent-zTUbyUmDDRkF5E3QFvGyanT6', created_at=1730312282, level='info', message='Step 84/345: training loss=1.27', object='fine_tuning.job.event', data={'step': 84, 'train_loss': 1.2659826278686523, 'total_steps': 345, 'train_mean_token_accuracy': 0.6888889074325562}, type='metrics')\n",
      "FineTuningJobEvent(id='ftevent-BIy31sNlWgVxPwnrCaSSUZD1', created_at=1730312282, level='info', message='Step 83/345: training loss=0.90', object='fine_tuning.job.event', data={'step': 83, 'train_loss': 0.9049312472343445, 'total_steps': 345, 'train_mean_token_accuracy': 0.7058823704719543}, type='metrics')\n",
      "FineTuningJobEvent(id='ftevent-h80pUVBwHNB1EpIoUVmVTuPD', created_at=1730312280, level='info', message='Step 82/345: training loss=0.55', object='fine_tuning.job.event', data={'step': 82, 'train_loss': 0.547095537185669, 'total_steps': 345, 'train_mean_token_accuracy': 0.8333333134651184}, type='metrics')\n",
      "FineTuningJobEvent(id='ftevent-kkZuraqlz1a7OiHBL1epOrWG', created_at=1730312280, level='info', message='Step 81/345: training loss=0.95', object='fine_tuning.job.event', data={'step': 81, 'train_loss': 0.947837233543396, 'total_steps': 345, 'train_mean_token_accuracy': 0.6818181872367859}, type='metrics')\n",
      "FineTuningJobEvent(id='ftevent-LSSEspNxQEaDhRYHy6wZgmPj', created_at=1730312280, level='info', message='Step 80/345: training loss=0.92', object='fine_tuning.job.event', data={'step': 80, 'train_loss': 0.9244526624679565, 'total_steps': 345, 'train_mean_token_accuracy': 0.7272727489471436}, type='metrics')\n",
      "FineTuningJobEvent(id='ftevent-zqmeT0qL14MxZoKyIjkG25W8', created_at=1730312277, level='info', message='Step 79/345: training loss=1.27', object='fine_tuning.job.event', data={'step': 79, 'train_loss': 1.2718889713287354, 'total_steps': 345, 'train_mean_token_accuracy': 0.6399999856948853}, type='metrics')\n",
      "FineTuningJobEvent(id='ftevent-tiYXpwY8qnoqliaH84JrgMam', created_at=1730312277, level='info', message='Step 78/345: training loss=1.71', object='fine_tuning.job.event', data={'step': 78, 'train_loss': 1.7132365703582764, 'total_steps': 345, 'train_mean_token_accuracy': 0.52173912525177}, type='metrics')\n",
      "FineTuningJobEvent(id='ftevent-P6pnW21v9A3NAfFj95rRPdjw', created_at=1730312277, level='info', message='Step 77/345: training loss=1.51', object='fine_tuning.job.event', data={'step': 77, 'train_loss': 1.5098212957382202, 'total_steps': 345, 'train_mean_token_accuracy': 0.6279069781303406}, type='metrics')\n",
      "FineTuningJobEvent(id='ftevent-K6R3Pl3mVjUKCm8RcI6gE1K5', created_at=1730312275, level='info', message='Step 76/345: training loss=0.99', object='fine_tuning.job.event', data={'step': 76, 'train_loss': 0.9949520826339722, 'total_steps': 345, 'train_mean_token_accuracy': 0.5625}, type='metrics')\n",
      "FineTuningJobEvent(id='ftevent-mJCv5VighYInpkvB8yo44l5q', created_at=1730312275, level='info', message='Step 75/345: training loss=0.71', object='fine_tuning.job.event', data={'step': 75, 'train_loss': 0.7125524878501892, 'total_steps': 345, 'train_mean_token_accuracy': 0.8461538553237915}, type='metrics')\n",
      "FineTuningJobEvent(id='ftevent-p75QFg2ydpCIJh8Y2ZYAfWBc', created_at=1730312272, level='info', message='Step 74/345: training loss=1.61', object='fine_tuning.job.event', data={'step': 74, 'train_loss': 1.6149572134017944, 'total_steps': 345, 'train_mean_token_accuracy': 0.4375}, type='metrics')\n",
      "FineTuningJobEvent(id='ftevent-dx5a3H5Lo6K5XLbVjqyKcXqw', created_at=1730312272, level='info', message='Step 73/345: training loss=1.52', object='fine_tuning.job.event', data={'step': 73, 'train_loss': 1.52181077003479, 'total_steps': 345, 'train_mean_token_accuracy': 0.6470588445663452}, type='metrics')\n",
      "FineTuningJobEvent(id='ftevent-g6hgBBDWCABSg7c0nk3JimJq', created_at=1730312272, level='info', message='Step 72/345: training loss=0.76', object='fine_tuning.job.event', data={'step': 72, 'train_loss': 0.7611439824104309, 'total_steps': 345, 'train_mean_token_accuracy': 0.8148148059844971}, type='metrics')\n",
      "FineTuningJobEvent(id='ftevent-9BsvX0TesGkWbSNldpYWuR0b', created_at=1730312270, level='info', message='Step 71/345: training loss=0.73', object='fine_tuning.job.event', data={'step': 71, 'train_loss': 0.7277014255523682, 'total_steps': 345, 'train_mean_token_accuracy': 0.8064516186714172}, type='metrics')\n",
      "FineTuningJobEvent(id='ftevent-mQP3pe0O3rVA01OvXEs6j0oH', created_at=1730312270, level='info', message='Step 70/345: training loss=0.72', object='fine_tuning.job.event', data={'step': 70, 'train_loss': 0.716349720954895, 'total_steps': 345, 'train_mean_token_accuracy': 0.75}, type='metrics')\n",
      "FineTuningJobEvent(id='ftevent-Pc5VKMhw2HTCPjBK8WDqHUmT', created_at=1730312269, level='info', message='Step 69/345: training loss=0.68', object='fine_tuning.job.event', data={'step': 69, 'train_loss': 0.6790416836738586, 'total_steps': 345, 'train_mean_token_accuracy': 0.7894737124443054}, type='metrics')\n",
      "FineTuningJobEvent(id='ftevent-vwFEt32yz79MYDD6xhCT9CSN', created_at=1730312267, level='info', message='Step 68/345: training loss=0.79', object='fine_tuning.job.event', data={'step': 68, 'train_loss': 0.7893292903900146, 'total_steps': 345, 'train_mean_token_accuracy': 0.8333333134651184}, type='metrics')\n",
      "FineTuningJobEvent(id='ftevent-KcWPlEhL1guvvKYHKqATquK4', created_at=1730312267, level='info', message='Step 67/345: training loss=2.02', object='fine_tuning.job.event', data={'step': 67, 'train_loss': 2.0159354209899902, 'total_steps': 345, 'train_mean_token_accuracy': 0.4285714328289032}, type='metrics')\n",
      "FineTuningJobEvent(id='ftevent-Kx5Ch0BDtKhhyGjSxdo4eE2F', created_at=1730312267, level='info', message='Step 66/345: training loss=1.00', object='fine_tuning.job.event', data={'step': 66, 'train_loss': 1.0006088018417358, 'total_steps': 345, 'train_mean_token_accuracy': 0.8421052694320679}, type='metrics')\n",
      "FineTuningJobEvent(id='ftevent-GvrO2nUK2ii7Z9V05U94VRQ8', created_at=1730312264, level='info', message='Step 65/345: training loss=1.25', object='fine_tuning.job.event', data={'step': 65, 'train_loss': 1.2478042840957642, 'total_steps': 345, 'train_mean_token_accuracy': 0.7250000238418579}, type='metrics')\n",
      "FineTuningJobEvent(id='ftevent-amyW6v4HcImKvhkiXhwOuoYZ', created_at=1730312264, level='info', message='Step 64/345: training loss=0.68', object='fine_tuning.job.event', data={'step': 64, 'train_loss': 0.680112361907959, 'total_steps': 345, 'train_mean_token_accuracy': 0.7575757503509521}, type='metrics')\n",
      "FineTuningJobEvent(id='ftevent-RAKv0BFeazPUlHL3wWfQzFxR', created_at=1730312262, level='info', message='Step 63/345: training loss=1.29', object='fine_tuning.job.event', data={'step': 63, 'train_loss': 1.2916537523269653, 'total_steps': 345, 'train_mean_token_accuracy': 0.6428571343421936}, type='metrics')\n",
      "FineTuningJobEvent(id='ftevent-7EYqINa84xhDQXplkrdeuJS5', created_at=1730312262, level='info', message='Step 62/345: training loss=0.83', object='fine_tuning.job.event', data={'step': 62, 'train_loss': 0.8331137299537659, 'total_steps': 345, 'train_mean_token_accuracy': 0.7222222089767456}, type='metrics')\n",
      "FineTuningJobEvent(id='ftevent-7QDaHLvTv5jV15BFWEFwtRkc', created_at=1730312262, level='info', message='Step 61/345: training loss=0.86', object='fine_tuning.job.event', data={'step': 61, 'train_loss': 0.856072187423706, 'total_steps': 345, 'train_mean_token_accuracy': 0.7777777910232544}, type='metrics')\n",
      "FineTuningJobEvent(id='ftevent-7LOX0vJfz0pl79vOreX4oL0L', created_at=1730312259, level='info', message='Step 60/345: training loss=1.05', object='fine_tuning.job.event', data={'step': 60, 'train_loss': 1.0548399686813354, 'total_steps': 345, 'train_mean_token_accuracy': 0.7037037014961243}, type='metrics')\n",
      "FineTuningJobEvent(id='ftevent-AqPhCHwQ8beCdI6nhAyDa45p', created_at=1730312259, level='info', message='Step 59/345: training loss=1.20', object='fine_tuning.job.event', data={'step': 59, 'train_loss': 1.1981756687164307, 'total_steps': 345, 'train_mean_token_accuracy': 0.6000000238418579}, type='metrics')\n",
      "FineTuningJobEvent(id='ftevent-KfpyVJq1QlbaoyNlJhXIFyjR', created_at=1730312259, level='info', message='Step 58/345: training loss=1.06', object='fine_tuning.job.event', data={'step': 58, 'train_loss': 1.0550013780593872, 'total_steps': 345, 'train_mean_token_accuracy': 0.7368420958518982}, type='metrics')\n",
      "FineTuningJobEvent(id='ftevent-vSuarPetUQKEMuFI0y4j224t', created_at=1730312257, level='info', message='Step 57/345: training loss=1.19', object='fine_tuning.job.event', data={'step': 57, 'train_loss': 1.1865344047546387, 'total_steps': 345, 'train_mean_token_accuracy': 0.5862069129943848}, type='metrics')\n",
      "FineTuningJobEvent(id='ftevent-DJr9iWAfMDlBQEscP7NpgHEF', created_at=1730312257, level='info', message='Step 56/345: training loss=1.82', object='fine_tuning.job.event', data={'step': 56, 'train_loss': 1.818327784538269, 'total_steps': 345, 'train_mean_token_accuracy': 0.47058823704719543}, type='metrics')\n",
      "FineTuningJobEvent(id='ftevent-57Ns7yUH0Pc2rtq9csoMHwnb', created_at=1730312254, level='info', message='Step 55/345: training loss=1.23', object='fine_tuning.job.event', data={'step': 55, 'train_loss': 1.2259736061096191, 'total_steps': 345, 'train_mean_token_accuracy': 0.6111111044883728}, type='metrics')\n",
      "FineTuningJobEvent(id='ftevent-9lLEu3ofg3jSwNNRK54CnRX5', created_at=1730312254, level='info', message='Step 54/345: training loss=1.78', object='fine_tuning.job.event', data={'step': 54, 'train_loss': 1.7771849632263184, 'total_steps': 345, 'train_mean_token_accuracy': 0.5384615659713745}, type='metrics')\n",
      "FineTuningJobEvent(id='ftevent-PP6Z16Ghm2MMayrsWnvAByLU', created_at=1730312254, level='info', message='Step 53/345: training loss=0.76', object='fine_tuning.job.event', data={'step': 53, 'train_loss': 0.757895290851593, 'total_steps': 345, 'train_mean_token_accuracy': 0.7714285850524902}, type='metrics')\n",
      "FineTuningJobEvent(id='ftevent-HpnM2NInYAOMCSTyiwAdstnn', created_at=1730312252, level='info', message='Step 52/345: training loss=0.93', object='fine_tuning.job.event', data={'step': 52, 'train_loss': 0.9306581020355225, 'total_steps': 345, 'train_mean_token_accuracy': 0.6666666865348816}, type='metrics')\n",
      "FineTuningJobEvent(id='ftevent-DNfcgQsr8z2BAbvxnfWIHaDu', created_at=1730312252, level='info', message='Step 51/345: training loss=1.28', object='fine_tuning.job.event', data={'step': 51, 'train_loss': 1.284036636352539, 'total_steps': 345, 'train_mean_token_accuracy': 0.6190476417541504}, type='metrics')\n",
      "FineTuningJobEvent(id='ftevent-kGqqu7lgGQvZssuf7DJopSNo', created_at=1730312252, level='info', message='Step 50/345: training loss=1.00', object='fine_tuning.job.event', data={'step': 50, 'train_loss': 0.9966703057289124, 'total_steps': 345, 'train_mean_token_accuracy': 0.6571428775787354}, type='metrics')\n",
      "FineTuningJobEvent(id='ftevent-FC0L75k4V9LsUBQ96KEfTjYs', created_at=1730312249, level='info', message='Step 49/345: training loss=1.06', object='fine_tuning.job.event', data={'step': 49, 'train_loss': 1.0646520853042603, 'total_steps': 345, 'train_mean_token_accuracy': 0.7142857313156128}, type='metrics')\n",
      "FineTuningJobEvent(id='ftevent-lLgIJdR8W2UplTuuCKv0R99H', created_at=1730312249, level='info', message='Step 48/345: training loss=1.64', object='fine_tuning.job.event', data={'step': 48, 'train_loss': 1.6435619592666626, 'total_steps': 345, 'train_mean_token_accuracy': 0.5}, type='metrics')\n",
      "FineTuningJobEvent(id='ftevent-SyuosH6IBH1fvpY7iKQbQH6E', created_at=1730312246, level='info', message='Step 47/345: training loss=1.09', object='fine_tuning.job.event', data={'step': 47, 'train_loss': 1.0879260301589966, 'total_steps': 345, 'train_mean_token_accuracy': 0.6000000238418579}, type='metrics')\n",
      "FineTuningJobEvent(id='ftevent-bwds21TSynv1xDdxOumbxDFV', created_at=1730312246, level='info', message='Step 46/345: training loss=1.12', object='fine_tuning.job.event', data={'step': 46, 'train_loss': 1.1231942176818848, 'total_steps': 345, 'train_mean_token_accuracy': 0.6399999856948853}, type='metrics')\n",
      "FineTuningJobEvent(id='ftevent-rwuaWwpPGp7wCcf0YDfL3wzx', created_at=1730312246, level='info', message='Step 45/345: training loss=1.02', object='fine_tuning.job.event', data={'step': 45, 'train_loss': 1.0200365781784058, 'total_steps': 345, 'train_mean_token_accuracy': 0.7096773982048035}, type='metrics')\n",
      "FineTuningJobEvent(id='ftevent-Egb5vlSqjOTbSBCDjHSchvn7', created_at=1730312244, level='info', message='Step 44/345: training loss=1.38', object='fine_tuning.job.event', data={'step': 44, 'train_loss': 1.37839674949646, 'total_steps': 345, 'train_mean_token_accuracy': 0.5405405163764954}, type='metrics')\n",
      "FineTuningJobEvent(id='ftevent-bNYcwYv0wB8hGEIKQRzQfDus', created_at=1730312244, level='info', message='Step 43/345: training loss=1.37', object='fine_tuning.job.event', data={'step': 43, 'train_loss': 1.3693971633911133, 'total_steps': 345, 'train_mean_token_accuracy': 0.5357142686843872}, type='metrics')\n",
      "FineTuningJobEvent(id='ftevent-aMJ6XwGY6KIaXB5GcCR8rqVy', created_at=1730312244, level='info', message='Step 42/345: training loss=1.18', object='fine_tuning.job.event', data={'step': 42, 'train_loss': 1.1756786108016968, 'total_steps': 345, 'train_mean_token_accuracy': 0.6216216087341309}, type='metrics')\n",
      "FineTuningJobEvent(id='ftevent-J394tIAzW354AZvrOCO52ymN', created_at=1730312242, level='info', message='Step 41/345: training loss=0.91', object='fine_tuning.job.event', data={'step': 41, 'train_loss': 0.9059906601905823, 'total_steps': 345, 'train_mean_token_accuracy': 0.6428571343421936}, type='metrics')\n",
      "FineTuningJobEvent(id='ftevent-qooJbNkw0Ytw04FOD8JGgfPy', created_at=1730312241, level='info', message='Step 40/345: training loss=1.10', object='fine_tuning.job.event', data={'step': 40, 'train_loss': 1.1030193567276, 'total_steps': 345, 'train_mean_token_accuracy': 0.7142857313156128}, type='metrics')\n",
      "FineTuningJobEvent(id='ftevent-KNLVgHQwkadBIRNbASn2PmOd', created_at=1730312239, level='info', message='Step 39/345: training loss=1.19', object='fine_tuning.job.event', data={'step': 39, 'train_loss': 1.1877957582473755, 'total_steps': 345, 'train_mean_token_accuracy': 0.5199999809265137}, type='metrics')\n",
      "FineTuningJobEvent(id='ftevent-soQmyXFfZjym64VCiWMxUbud', created_at=1730312239, level='info', message='Step 38/345: training loss=1.39', object='fine_tuning.job.event', data={'step': 38, 'train_loss': 1.38701593875885, 'total_steps': 345, 'train_mean_token_accuracy': 0.6470588445663452}, type='metrics')\n",
      "FineTuningJobEvent(id='ftevent-AelswNx4K480BkzjB6cTOuqT', created_at=1730312239, level='info', message='Step 37/345: training loss=0.91', object='fine_tuning.job.event', data={'step': 37, 'train_loss': 0.9132737517356873, 'total_steps': 345, 'train_mean_token_accuracy': 0.75}, type='metrics')\n",
      "FineTuningJobEvent(id='ftevent-E6JfQ6e1vGa1CdcntgtqWvIU', created_at=1730312236, level='info', message='Step 36/345: training loss=1.11', object='fine_tuning.job.event', data={'step': 36, 'train_loss': 1.1124719381332397, 'total_steps': 345, 'train_mean_token_accuracy': 0.692307710647583}, type='metrics')\n",
      "FineTuningJobEvent(id='ftevent-YUmfFZL8A0UTZPRIHhvnu0u4', created_at=1730312236, level='info', message='Step 35/345: training loss=1.59', object='fine_tuning.job.event', data={'step': 35, 'train_loss': 1.593480110168457, 'total_steps': 345, 'train_mean_token_accuracy': 0.5428571701049805}, type='metrics')\n",
      "FineTuningJobEvent(id='ftevent-UiJDnU8nY3wGJRf3PWsZtcMR', created_at=1730312234, level='info', message='Step 34/345: training loss=1.49', object='fine_tuning.job.event', data={'step': 34, 'train_loss': 1.487271785736084, 'total_steps': 345, 'train_mean_token_accuracy': 0.529411792755127}, type='metrics')\n",
      "FineTuningJobEvent(id='ftevent-QvciDcVdcYDxDGRccrNjeCCW', created_at=1730312234, level='info', message='Step 33/345: training loss=1.13', object='fine_tuning.job.event', data={'step': 33, 'train_loss': 1.1256879568099976, 'total_steps': 345, 'train_mean_token_accuracy': 0.5555555820465088}, type='metrics')\n",
      "FineTuningJobEvent(id='ftevent-V3IJiABMCQ9ERRyqV2xj5DFm', created_at=1730312234, level='info', message='Step 32/345: training loss=1.70', object='fine_tuning.job.event', data={'step': 32, 'train_loss': 1.698390245437622, 'total_steps': 345, 'train_mean_token_accuracy': 0.550000011920929}, type='metrics')\n",
      "FineTuningJobEvent(id='ftevent-feuUkhQFRLrWRMZGz8i5PrE2', created_at=1730312232, level='info', message='Step 31/345: training loss=0.94', object='fine_tuning.job.event', data={'step': 31, 'train_loss': 0.9389877319335938, 'total_steps': 345, 'train_mean_token_accuracy': 0.8500000238418579}, type='metrics')\n",
      "FineTuningJobEvent(id='ftevent-jfGUn0IJwA8ArwjFTvUvRFsI', created_at=1730312231, level='info', message='Step 30/345: training loss=0.95', object='fine_tuning.job.event', data={'step': 30, 'train_loss': 0.945873498916626, 'total_steps': 345, 'train_mean_token_accuracy': 0.6666666865348816}, type='metrics')\n",
      "FineTuningJobEvent(id='ftevent-FUfNDXtc5BfaR10r3BhoDUmk', created_at=1730312229, level='info', message='Step 29/345: training loss=1.50', object='fine_tuning.job.event', data={'step': 29, 'train_loss': 1.4972333908081055, 'total_steps': 345, 'train_mean_token_accuracy': 0.7142857313156128}, type='metrics')\n",
      "FineTuningJobEvent(id='ftevent-fwTKtw23wb3EujLgS1Q3jMX6', created_at=1730312229, level='info', message='Step 28/345: training loss=1.68', object='fine_tuning.job.event', data={'step': 28, 'train_loss': 1.678423285484314, 'total_steps': 345, 'train_mean_token_accuracy': 0.46875}, type='metrics')\n",
      "FineTuningJobEvent(id='ftevent-kaa8n0As1JwVn0ErnzMuqkbq', created_at=1730312229, level='info', message='Step 27/345: training loss=1.16', object='fine_tuning.job.event', data={'step': 27, 'train_loss': 1.1599186658859253, 'total_steps': 345, 'train_mean_token_accuracy': 0.75}, type='metrics')\n",
      "FineTuningJobEvent(id='ftevent-2LTdg0hjUuTqkxpW7EitpeIc', created_at=1730312227, level='info', message='Step 26/345: training loss=1.05', object='fine_tuning.job.event', data={'step': 26, 'train_loss': 1.0546900033950806, 'total_steps': 345, 'train_mean_token_accuracy': 0.6756756901741028}, type='metrics')\n",
      "FineTuningJobEvent(id='ftevent-Jh0hVgpVYoJkx5RhtSyLLpaZ', created_at=1730312227, level='info', message='Step 25/345: training loss=1.07', object='fine_tuning.job.event', data={'step': 25, 'train_loss': 1.0687955617904663, 'total_steps': 345, 'train_mean_token_accuracy': 0.6857143044471741}, type='metrics')\n",
      "FineTuningJobEvent(id='ftevent-JUrmTKptlPgMYZYQpjElwUNp', created_at=1730312224, level='info', message='Step 24/345: training loss=1.45', object='fine_tuning.job.event', data={'step': 24, 'train_loss': 1.4543583393096924, 'total_steps': 345, 'train_mean_token_accuracy': 0.7692307829856873}, type='metrics')\n",
      "FineTuningJobEvent(id='ftevent-j2zlJrpUo0tZC8SiMXAo8wZm', created_at=1730312224, level='info', message='Step 23/345: training loss=1.27', object='fine_tuning.job.event', data={'step': 23, 'train_loss': 1.271673321723938, 'total_steps': 345, 'train_mean_token_accuracy': 0.6315789222717285}, type='metrics')\n",
      "FineTuningJobEvent(id='ftevent-w6NbDCIYOO0qPLLz455ddCLr', created_at=1730312224, level='info', message='Step 22/345: training loss=1.73', object='fine_tuning.job.event', data={'step': 22, 'train_loss': 1.7320126295089722, 'total_steps': 345, 'train_mean_token_accuracy': 0.7058823704719543}, type='metrics')\n",
      "FineTuningJobEvent(id='ftevent-teiUfdHf2vNyTIaQP1l9XS3P', created_at=1730312222, level='info', message='Step 21/345: training loss=2.57', object='fine_tuning.job.event', data={'step': 21, 'train_loss': 2.565782070159912, 'total_steps': 345, 'train_mean_token_accuracy': 0.43478259444236755}, type='metrics')\n",
      "FineTuningJobEvent(id='ftevent-oecErErJkuph9lgR7xMzJMWT', created_at=1730312222, level='info', message='Step 20/345: training loss=2.67', object='fine_tuning.job.event', data={'step': 20, 'train_loss': 2.667476177215576, 'total_steps': 345, 'train_mean_token_accuracy': 0.4000000059604645}, type='metrics')\n",
      "FineTuningJobEvent(id='ftevent-Y5nAzQeIyGpFsBnMWC5MBxG8', created_at=1730312219, level='info', message='Step 19/345: training loss=1.80', object='fine_tuning.job.event', data={'step': 19, 'train_loss': 1.7962337732315063, 'total_steps': 345, 'train_mean_token_accuracy': 0.5909090638160706}, type='metrics')\n",
      "FineTuningJobEvent(id='ftevent-MM55w9KDYdyxhzE9heWARN9n', created_at=1730312219, level='info', message='Step 18/345: training loss=1.69', object='fine_tuning.job.event', data={'step': 18, 'train_loss': 1.6904337406158447, 'total_steps': 345, 'train_mean_token_accuracy': 0.6052631735801697}, type='metrics')\n",
      "FineTuningJobEvent(id='ftevent-eDoXF6kdFrkRArXSPcwjXhfc', created_at=1730312219, level='info', message='Step 17/345: training loss=2.06', object='fine_tuning.job.event', data={'step': 17, 'train_loss': 2.0589094161987305, 'total_steps': 345, 'train_mean_token_accuracy': 0.6111111044883728}, type='metrics')\n",
      "FineTuningJobEvent(id='ftevent-dAOCbGGBO74F2XwgF5dkQgHa', created_at=1730312217, level='info', message='Step 16/345: training loss=1.29', object='fine_tuning.job.event', data={'step': 16, 'train_loss': 1.2869943380355835, 'total_steps': 345, 'train_mean_token_accuracy': 0.7333333492279053}, type='metrics')\n",
      "FineTuningJobEvent(id='ftevent-54h50DyHhM9vfe4EVFm7k0Ac', created_at=1730312217, level='info', message='Step 15/345: training loss=3.35', object='fine_tuning.job.event', data={'step': 15, 'train_loss': 3.3538849353790283, 'total_steps': 345, 'train_mean_token_accuracy': 0.5714285969734192}, type='metrics')\n",
      "FineTuningJobEvent(id='ftevent-hJMGj4feQYiPCZEbjfWO1x5C', created_at=1730312215, level='info', message='Step 14/345: training loss=3.46', object='fine_tuning.job.event', data={'step': 14, 'train_loss': 3.4557273387908936, 'total_steps': 345, 'train_mean_token_accuracy': 0.44736841320991516}, type='metrics')\n",
      "FineTuningJobEvent(id='ftevent-Q5dVwUkQKH3e1uuy21ey0kMF', created_at=1730312215, level='info', message='Step 13/345: training loss=1.90', object='fine_tuning.job.event', data={'step': 13, 'train_loss': 1.8952957391738892, 'total_steps': 345, 'train_mean_token_accuracy': 0.6666666865348816}, type='metrics')\n",
      "FineTuningJobEvent(id='ftevent-p3LZ4wVDw8UWcCfq2p3umprA', created_at=1730312215, level='info', message='Step 12/345: training loss=2.29', object='fine_tuning.job.event', data={'step': 12, 'train_loss': 2.2926604747772217, 'total_steps': 345, 'train_mean_token_accuracy': 0.7368420958518982}, type='metrics')\n",
      "FineTuningJobEvent(id='ftevent-fjlsLMKoBCq3IKE3MfAC0i8z', created_at=1730312212, level='info', message='Step 11/345: training loss=2.36', object='fine_tuning.job.event', data={'step': 11, 'train_loss': 2.357771873474121, 'total_steps': 345, 'train_mean_token_accuracy': 0.6153846383094788}, type='metrics')\n",
      "FineTuningJobEvent(id='ftevent-VId6KwdU0HrQidDYKaYY1unj', created_at=1730312212, level='info', message='Step 10/345: training loss=3.28', object='fine_tuning.job.event', data={'step': 10, 'train_loss': 3.2837860584259033, 'total_steps': 345, 'train_mean_token_accuracy': 0.6499999761581421}, type='metrics')\n",
      "FineTuningJobEvent(id='ftevent-gL5yNkrmQddJiN0bsBTVYt7y', created_at=1730312210, level='info', message='Step 9/345: training loss=2.37', object='fine_tuning.job.event', data={'step': 9, 'train_loss': 2.3668925762176514, 'total_steps': 345, 'train_mean_token_accuracy': 0.5833333134651184}, type='metrics')\n",
      "FineTuningJobEvent(id='ftevent-EQnCcOCIeUbbRG1yQveHarYg', created_at=1730312210, level='info', message='Step 8/345: training loss=2.99', object='fine_tuning.job.event', data={'step': 8, 'train_loss': 2.986739158630371, 'total_steps': 345, 'train_mean_token_accuracy': 0.46875}, type='metrics')\n",
      "FineTuningJobEvent(id='ftevent-kNCl6vKgT3RbutrgnO6bobVx', created_at=1730312210, level='info', message='Step 7/345: training loss=2.66', object='fine_tuning.job.event', data={'step': 7, 'train_loss': 2.661574363708496, 'total_steps': 345, 'train_mean_token_accuracy': 0.6086956262588501}, type='metrics')\n",
      "FineTuningJobEvent(id='ftevent-xnHsPM8iTgh4ZUMUhpffT7l4', created_at=1730312208, level='info', message='Step 6/345: training loss=2.62', object='fine_tuning.job.event', data={'step': 6, 'train_loss': 2.6219770908355713, 'total_steps': 345, 'train_mean_token_accuracy': 0.6538461446762085}, type='metrics')\n",
      "FineTuningJobEvent(id='ftevent-RQOyYITWYJBYuko7T6gLYfr9', created_at=1730312208, level='info', message='Step 5/345: training loss=3.58', object='fine_tuning.job.event', data={'step': 5, 'train_loss': 3.5835437774658203, 'total_steps': 345, 'train_mean_token_accuracy': 0.625}, type='metrics')\n",
      "FineTuningJobEvent(id='ftevent-uCxcJbmRKBmTwvmHGHRp5ONp', created_at=1730312207, level='info', message='Step 4/345: training loss=4.60', object='fine_tuning.job.event', data={'step': 4, 'train_loss': 4.5950212478637695, 'total_steps': 345, 'train_mean_token_accuracy': 0.375}, type='metrics')\n",
      "FineTuningJobEvent(id='ftevent-7P4NVD06VNSmYENOVYNTQeIe', created_at=1730312205, level='info', message='Step 3/345: training loss=2.59', object='fine_tuning.job.event', data={'step': 3, 'train_loss': 2.5877528190612793, 'total_steps': 345, 'train_mean_token_accuracy': 0.6129032373428345}, type='metrics')\n",
      "FineTuningJobEvent(id='ftevent-nbJAXwaTeiB6KMWFo28eznEP', created_at=1730312205, level='info', message='Step 2/345: training loss=2.51', object='fine_tuning.job.event', data={'step': 2, 'train_loss': 2.5117580890655518, 'total_steps': 345, 'train_mean_token_accuracy': 0.625}, type='metrics')\n",
      "FineTuningJobEvent(id='ftevent-cqjSMUXoKql1qP8ktOk3RN3L', created_at=1730312202, level='info', message='Step 1/345: training loss=2.25', object='fine_tuning.job.event', data={'step': 1, 'train_loss': 2.2546544075012207, 'total_steps': 345, 'train_mean_token_accuracy': 0.6944444179534912}, type='metrics')\n",
      "FineTuningJobEvent(id='ftevent-AyZVvDxNKkWbfMo3bcXwSuzf', created_at=1730312081, level='info', message='Fine-tuning job started', object='fine_tuning.job.event', data=None, type='message')\n",
      "FineTuningJobEvent(id='ftevent-FKGj08kD5NvLFqTv5dzPlwVH', created_at=1730312080, level='info', message='Files validated, moving job to queued state', object='fine_tuning.job.event', data={}, type='message')\n",
      "FineTuningJobEvent(id='ftevent-VCjwO9o3Opli9X9ioxN7olrS', created_at=1730312026, level='info', message='Validating training file: file-YG1WjBAProvE7UDQmYzanQgp', object='fine_tuning.job.event', data={}, type='message')\n",
      "FineTuningJobEvent(id='ftevent-ZJURAitHl82tK53tLfKG8AM2', created_at=1730312026, level='info', message='Created fine-tuning job: ftjob-Tbdf6OsN1uHPpiW7K2XnjZy3', object='fine_tuning.job.event', data={}, type='message')\n"
     ]
    }
   ],
   "source": [
    "for job in client.fine_tuning.jobs.list_events(fine_tuning_job_id=training_detail.id):\n",
    "    print(job)"
   ]
  },
  {
   "cell_type": "code",
   "execution_count": 58,
   "metadata": {},
   "outputs": [
    {
     "data": {
      "text/plain": [
       "'The job has successfully completed'"
      ]
     },
     "execution_count": 58,
     "metadata": {},
     "output_type": "execute_result"
    }
   ],
   "source": [
    "client.fine_tuning.jobs.list_events(fine_tuning_job_id=training_detail.id, limit=1).data[0].message"
   ]
  },
  {
   "cell_type": "code",
   "execution_count": 43,
   "metadata": {},
   "outputs": [
    {
     "name": "stdout",
     "output_type": "stream",
     "text": [
      "ft:gpt-4o-mini-2024-07-18:personal::AO7dT1L1\n"
     ]
    }
   ],
   "source": [
    "for job in client.fine_tuning.jobs.list():\n",
    "    if job.id == training_detail.id:\n",
    "        model_id = job.fine_tuned_model\n",
    "\n",
    "print(model_id)"
   ]
  },
  {
   "cell_type": "code",
   "execution_count": 59,
   "metadata": {},
   "outputs": [
    {
     "name": "stdout",
     "output_type": "stream",
     "text": [
      "아직 안 먹었어, 뭘 먹을까 고민 중이야.\n"
     ]
    }
   ],
   "source": [
    "completion = client.chat.completions.create(\n",
    "  model=model_id,\n",
    "  messages=[\n",
    "    {\"role\": \"system\", \"content\": \"You are an assistant tasked with providing engaging and relevant responses based on the given conversation context. Respond thoughtfully and appropriately to user inputs.\"},\n",
    "    {\"role\": \"user\", \"content\": \"엄마 점심 먹었어?\"}\n",
    "  ]\n",
    ")\n",
    "print(completion.choices[0].message.content)"
   ]
  }
 ],
 "metadata": {
  "kernelspec": {
   "display_name": "voip",
   "language": "python",
   "name": "python3"
  },
  "language_info": {
   "codemirror_mode": {
    "name": "ipython",
    "version": 3
   },
   "file_extension": ".py",
   "mimetype": "text/x-python",
   "name": "python",
   "nbconvert_exporter": "python",
   "pygments_lexer": "ipython3",
   "version": "3.10.14"
  }
 },
 "nbformat": 4,
 "nbformat_minor": 2
}
