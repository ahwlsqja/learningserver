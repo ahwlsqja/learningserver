{
 "cells": [
  {
   "cell_type": "code",
   "execution_count": 1,
   "metadata": {},
   "outputs": [],
   "source": [
    "import os\n",
    "import requests\n",
    "\n",
    "from dotenv import load_dotenv"
   ]
  },
  {
   "cell_type": "code",
   "execution_count": 2,
   "metadata": {},
   "outputs": [],
   "source": [
    "load_dotenv()\n",
    "\n",
    "api_key = os.getenv('ELEVENLABS_API_KEY')"
   ]
  },
  {
   "cell_type": "code",
   "execution_count": 6,
   "metadata": {},
   "outputs": [],
   "source": [
    "base_url = 'https://api.elevenlabs.io/v1/voices/add'\n",
    "\n",
    "headers = {'xi-api-key': api_key}\n",
    "files = [('files', open('./mjm.m4a', 'rb'))]\n",
    "\n",
    "data = {\n",
    "    'name': 'mjm',\n",
    "    'remove_background_noise': 'true',\n",
    "}\n",
    "\n",
    "response = requests.post(base_url, headers=headers, files=files, data=data)"
   ]
  },
  {
   "cell_type": "code",
   "execution_count": 8,
   "metadata": {},
   "outputs": [
    {
     "data": {
      "text/plain": [
       "'jBBKMkvmzhhKobBl0J8J'"
      ]
     },
     "execution_count": 8,
     "metadata": {},
     "output_type": "execute_result"
    }
   ],
   "source": [
    "response.json()['voice_id']"
   ]
  }
 ],
 "metadata": {
  "kernelspec": {
   "display_name": "voip",
   "language": "python",
   "name": "python3"
  },
  "language_info": {
   "codemirror_mode": {
    "name": "ipython",
    "version": 3
   },
   "file_extension": ".py",
   "mimetype": "text/x-python",
   "name": "python",
   "nbconvert_exporter": "python",
   "pygments_lexer": "ipython3",
   "version": "3.10.14"
  }
 },
 "nbformat": 4,
 "nbformat_minor": 2
}
